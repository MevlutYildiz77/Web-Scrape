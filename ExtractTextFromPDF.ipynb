{
 "cells": [
  {
   "cell_type": "code",
   "execution_count": 3,
   "metadata": {},
   "outputs": [],
   "source": [
    "import PyPDF2"
   ]
  },
  {
   "cell_type": "code",
   "execution_count": 9,
   "metadata": {},
   "outputs": [
    {
     "name": "stdout",
     "output_type": "stream",
     "text": [
      "Dashboard\tcreation\n",
      "Although,\tas\tstated\tpreviously,\ta\tdashboard\tcontains\tone\tor\tmore\tworksheets,\n",
      "dashboards\tare\tmuch\tmore\tthan\tstatic\tpresentations.\tThey\tare\tan\tessential\tpart\tof\n",
      "Tableau's\tinteractivity.\tIn\tthis\tsection,\twe\twill\tpopulate\ta\tdashboard\twith\n",
      "worksheets\tand\tthen\tdeploy\tactions\tfor\tinteractivity.\n",
      "Exercise\t-\tbuilding\ta\tdashboard\n",
      "1\n",
      ".\t\n",
      "In\tthe\tworkbook\tassociated\twith\tthis\tchapter,\tnavigate\tto\tthe\ttab\tentitled\n",
      "Building\ta\tDashboard\n",
      ".\n",
      "2\n",
      ".\t\n",
      "Within\tthe\t\n",
      "Dashboard\n",
      "\tpane\tlocated\ton\tthe\tleft-hand\tportion\tof\tthe\tscreen,\n",
      "double-click\ton\teach\tof\tthe\tfollowing\tworksheets\t(in\tthe\torder\tin\twhich\n",
      "they\tare\tlisted)\tto\tadd\tthem\tto\tthe\tdashboard:\n",
      "US\tSales\n",
      "Customer\tSegment\n",
      "Scatter\tPlot\n",
      "Customers\n",
      "3\n",
      ".\t\n",
      "In\tthe\tlower\tright-hand\tcorner\tof\tthe\tdashboard,\tclick\tin\tthe\tblank\tarea\n",
      "below\n",
      "\tProfit\tRatio\n",
      "\tto\tselect\tthe\tvertical\tcontainer:\n",
      "After\tclicking\tin\tthe\tblank\tarea,\tyou\tshould\tsee\ta\tblue\tborder\taround\n",
      "the\tfilter\tand\tthe\tlegends.\tThis\tindicates\tthat\tthe\tvertical\tcontainer\tis\n",
      "selected.\n",
      "4\n",
      ".\t\n",
      "As\tshown\tin\tthe\tfollowing\tscreenshot,\tselect\tthe\tvertical\tcontainer\thandle\n",
      "and\tdrag\tit\tto\tthe\tleft-hand\tside\tof\tthe\t\n",
      "Customers\n",
      "\tworksheet.\tNote\tthe\tgray\n",
      "shading,\twhich\tcommunicates\twhere\tthe\tcontainer\twill\tbe\tplaced:\n"
     ]
    }
   ],
   "source": [
    "pdf = open(r\"C:\\Users\\TOSHIBA\\Desktop\\MY\\TABLEAU\\Mastering Tableau.pdf\" ,\"rb\")\n",
    "reader = PyPDF2.PdfFileReader(pdf)\n",
    "page = reader.getPage(49)\n",
    "print(page.extractText())\n"
   ]
  }
 ],
 "metadata": {
  "kernelspec": {
   "display_name": "pythonProject",
   "language": "python",
   "name": "python3"
  },
  "language_info": {
   "codemirror_mode": {
    "name": "ipython",
    "version": 3
   },
   "file_extension": ".py",
   "mimetype": "text/x-python",
   "name": "python",
   "nbconvert_exporter": "python",
   "pygments_lexer": "ipython3",
   "version": "3.9.12"
  },
  "orig_nbformat": 4
 },
 "nbformat": 4,
 "nbformat_minor": 2
}
