{
 "cells": [
  {
   "cell_type": "code",
   "execution_count": 28,
   "metadata": {},
   "outputs": [],
   "source": [
    "import urllib.request  # Scrapy, Selenium, BeautifulSoup, Urlib.request\n",
    "import pandas as pd"
   ]
  },
  {
   "cell_type": "code",
   "execution_count": 29,
   "metadata": {},
   "outputs": [],
   "source": [
    "url = \"https://en.wikipedia.org/wiki/Programming_languages_used_in_most_popular_websites\""
   ]
  },
  {
   "cell_type": "code",
   "execution_count": 30,
   "metadata": {},
   "outputs": [],
   "source": [
    "with urllib.request.urlopen(url) as i:\n",
    "    html = i.read()"
   ]
  },
  {
   "cell_type": "code",
   "execution_count": 31,
   "metadata": {},
   "outputs": [],
   "source": [
    "df = pd.read_html(html)[0]"
   ]
  },
  {
   "cell_type": "code",
   "execution_count": 32,
   "metadata": {},
   "outputs": [
    {
     "data": {
      "text/html": [
       "<div>\n",
       "<style scoped>\n",
       "    .dataframe tbody tr th:only-of-type {\n",
       "        vertical-align: middle;\n",
       "    }\n",
       "\n",
       "    .dataframe tbody tr th {\n",
       "        vertical-align: top;\n",
       "    }\n",
       "\n",
       "    .dataframe thead th {\n",
       "        text-align: right;\n",
       "    }\n",
       "</style>\n",
       "<table border=\"1\" class=\"dataframe\">\n",
       "  <thead>\n",
       "    <tr style=\"text-align: right;\">\n",
       "      <th></th>\n",
       "      <th>Websites</th>\n",
       "      <th>Popularity(unique visitors per month)[1]</th>\n",
       "      <th>Front-end(Client-side)</th>\n",
       "      <th>Back-end(Server-side)</th>\n",
       "      <th>Database</th>\n",
       "      <th>Notes</th>\n",
       "    </tr>\n",
       "  </thead>\n",
       "  <tbody>\n",
       "    <tr>\n",
       "      <th>0</th>\n",
       "      <td>Google[2]</td>\n",
       "      <td>2500000000</td>\n",
       "      <td>JavaScript, TypeScript, HTML, CSS</td>\n",
       "      <td>C, C++, Go,[3] Java, Python, Node, PHP</td>\n",
       "      <td>Bigtable,[4] MariaDB[5]</td>\n",
       "      <td>The most used search engine in the world.</td>\n",
       "    </tr>\n",
       "    <tr>\n",
       "      <th>1</th>\n",
       "      <td>Facebook</td>\n",
       "      <td>1120000000</td>\n",
       "      <td>JavaScript, Typescript, Flow</td>\n",
       "      <td>Hack, PHP (HHVM), Python, C++, Java, Erlang, D...</td>\n",
       "      <td>MariaDB, MySQL,[8] HBase, Cassandra[9]</td>\n",
       "      <td>The most visited social networking site.</td>\n",
       "    </tr>\n",
       "    <tr>\n",
       "      <th>2</th>\n",
       "      <td>YouTube</td>\n",
       "      <td>1100000000</td>\n",
       "      <td>JavaScript, TypeScript</td>\n",
       "      <td>Python, C, C++, Java,[10] Go[11]</td>\n",
       "      <td>Vitess, BigTable, MariaDB[5][12]</td>\n",
       "      <td>The most popular video sharing site.</td>\n",
       "    </tr>\n",
       "    <tr>\n",
       "      <th>3</th>\n",
       "      <td>Yahoo</td>\n",
       "      <td>750000000</td>\n",
       "      <td>JavaScript, HTML</td>\n",
       "      <td>PHP</td>\n",
       "      <td>PostgreSQL, HBase, Cassandra, MongoDB,[13]</td>\n",
       "      <td>NaN</td>\n",
       "    </tr>\n",
       "    <tr>\n",
       "      <th>4</th>\n",
       "      <td>Etsy</td>\n",
       "      <td>516,000,000 (Total, not unique)[14]</td>\n",
       "      <td>JavaScript</td>\n",
       "      <td>PHP[15][16]</td>\n",
       "      <td>MySQL, Redis[17]</td>\n",
       "      <td>E-commerce website.</td>\n",
       "    </tr>\n",
       "    <tr>\n",
       "      <th>5</th>\n",
       "      <td>Amazon</td>\n",
       "      <td>2,400,000,000[18]</td>\n",
       "      <td>JavaScript</td>\n",
       "      <td>Java, C++, Perl[19]</td>\n",
       "      <td>DynamoDB, RDS/Aurora, Redshift[20]</td>\n",
       "      <td>The most used e-commerce site in the world.</td>\n",
       "    </tr>\n",
       "    <tr>\n",
       "      <th>6</th>\n",
       "      <td>Wikipedia</td>\n",
       "      <td>475000000</td>\n",
       "      <td>JavaScript</td>\n",
       "      <td>PHP</td>\n",
       "      <td>MariaDB[21]</td>\n",
       "      <td>A free online encyclopedia based on MediaWiki,...</td>\n",
       "    </tr>\n",
       "    <tr>\n",
       "      <th>7</th>\n",
       "      <td>Fandom</td>\n",
       "      <td>315,000,000[22]</td>\n",
       "      <td>JavaScript</td>\n",
       "      <td>PHP</td>\n",
       "      <td>MySQL</td>\n",
       "      <td>Wiki hosting service.</td>\n",
       "    </tr>\n",
       "    <tr>\n",
       "      <th>8</th>\n",
       "      <td>Twitter</td>\n",
       "      <td>290000000</td>\n",
       "      <td>JavaScript</td>\n",
       "      <td>C++, Java,[23] Scala,[24] Ruby (Ruby On Rails)</td>\n",
       "      <td>MySQL[25]</td>\n",
       "      <td>Popular social network.</td>\n",
       "    </tr>\n",
       "    <tr>\n",
       "      <th>9</th>\n",
       "      <td>Bing</td>\n",
       "      <td>285000000</td>\n",
       "      <td>JavaScript</td>\n",
       "      <td>C++, C#</td>\n",
       "      <td>Microsoft SQL Server, Cosmos DB</td>\n",
       "      <td>Search engine from Microsoft.</td>\n",
       "    </tr>\n",
       "    <tr>\n",
       "      <th>10</th>\n",
       "      <td>eBay</td>\n",
       "      <td>285000000</td>\n",
       "      <td>JavaScript, HTML</td>\n",
       "      <td>Java,[26] JavaScript,[27] Scala[28]</td>\n",
       "      <td>Oracle Database</td>\n",
       "      <td>Online auction house.</td>\n",
       "    </tr>\n",
       "    <tr>\n",
       "      <th>11</th>\n",
       "      <td>MSN</td>\n",
       "      <td>280000000</td>\n",
       "      <td>JavaScript</td>\n",
       "      <td>C# (ASP.NET)</td>\n",
       "      <td>Microsoft SQL Server</td>\n",
       "      <td>An email client, for simple use. Previously kn...</td>\n",
       "    </tr>\n",
       "    <tr>\n",
       "      <th>12</th>\n",
       "      <td>LinkedIn</td>\n",
       "      <td>260000000</td>\n",
       "      <td>JavaScript</td>\n",
       "      <td>Java, JavaScript,[29] Scala</td>\n",
       "      <td>Venice[30][31]</td>\n",
       "      <td>World's largest professional network.</td>\n",
       "    </tr>\n",
       "    <tr>\n",
       "      <th>13</th>\n",
       "      <td>Pinterest</td>\n",
       "      <td>250000000</td>\n",
       "      <td>JavaScript</td>\n",
       "      <td>Python (Django),[32] Erlang, Elixir[33]</td>\n",
       "      <td>MySQL, Redis[34]</td>\n",
       "      <td>Search engine for ideas.</td>\n",
       "    </tr>\n",
       "    <tr>\n",
       "      <th>14</th>\n",
       "      <td>WordPress.com</td>\n",
       "      <td>240,000,000 [35]</td>\n",
       "      <td>JavaScript</td>\n",
       "      <td>PHP[36]</td>\n",
       "      <td>MariaDB[37]</td>\n",
       "      <td>Website manager software.</td>\n",
       "    </tr>\n",
       "    <tr>\n",
       "      <th>15</th>\n",
       "      <td>Netflix</td>\n",
       "      <td>223.090.000 (Subscribers, not visitors)</td>\n",
       "      <td>JavaScript</td>\n",
       "      <td>Python, Java[38]</td>\n",
       "      <td>NMDB,[39] PostgreSQL</td>\n",
       "      <td>The biggest video streaming service in the world.</td>\n",
       "    </tr>\n",
       "  </tbody>\n",
       "</table>\n",
       "</div>"
      ],
      "text/plain": [
       "         Websites Popularity(unique visitors per month)[1]  \\\n",
       "0       Google[2]                               2500000000   \n",
       "1        Facebook                               1120000000   \n",
       "2         YouTube                               1100000000   \n",
       "3           Yahoo                                750000000   \n",
       "4            Etsy      516,000,000 (Total, not unique)[14]   \n",
       "5          Amazon                        2,400,000,000[18]   \n",
       "6       Wikipedia                                475000000   \n",
       "7          Fandom                          315,000,000[22]   \n",
       "8         Twitter                                290000000   \n",
       "9            Bing                                285000000   \n",
       "10           eBay                                285000000   \n",
       "11            MSN                                280000000   \n",
       "12       LinkedIn                                260000000   \n",
       "13      Pinterest                                250000000   \n",
       "14  WordPress.com                         240,000,000 [35]   \n",
       "15        Netflix  223.090.000 (Subscribers, not visitors)   \n",
       "\n",
       "               Front-end(Client-side)  \\\n",
       "0   JavaScript, TypeScript, HTML, CSS   \n",
       "1        JavaScript, Typescript, Flow   \n",
       "2              JavaScript, TypeScript   \n",
       "3                    JavaScript, HTML   \n",
       "4                          JavaScript   \n",
       "5                          JavaScript   \n",
       "6                          JavaScript   \n",
       "7                          JavaScript   \n",
       "8                          JavaScript   \n",
       "9                          JavaScript   \n",
       "10                   JavaScript, HTML   \n",
       "11                         JavaScript   \n",
       "12                         JavaScript   \n",
       "13                         JavaScript   \n",
       "14                         JavaScript   \n",
       "15                         JavaScript   \n",
       "\n",
       "                                Back-end(Server-side)  \\\n",
       "0              C, C++, Go,[3] Java, Python, Node, PHP   \n",
       "1   Hack, PHP (HHVM), Python, C++, Java, Erlang, D...   \n",
       "2                    Python, C, C++, Java,[10] Go[11]   \n",
       "3                                                 PHP   \n",
       "4                                         PHP[15][16]   \n",
       "5                                 Java, C++, Perl[19]   \n",
       "6                                                 PHP   \n",
       "7                                                 PHP   \n",
       "8      C++, Java,[23] Scala,[24] Ruby (Ruby On Rails)   \n",
       "9                                             C++, C#   \n",
       "10                Java,[26] JavaScript,[27] Scala[28]   \n",
       "11                                       C# (ASP.NET)   \n",
       "12                        Java, JavaScript,[29] Scala   \n",
       "13            Python (Django),[32] Erlang, Elixir[33]   \n",
       "14                                            PHP[36]   \n",
       "15                                   Python, Java[38]   \n",
       "\n",
       "                                      Database  \\\n",
       "0                      Bigtable,[4] MariaDB[5]   \n",
       "1       MariaDB, MySQL,[8] HBase, Cassandra[9]   \n",
       "2             Vitess, BigTable, MariaDB[5][12]   \n",
       "3   PostgreSQL, HBase, Cassandra, MongoDB,[13]   \n",
       "4                             MySQL, Redis[17]   \n",
       "5           DynamoDB, RDS/Aurora, Redshift[20]   \n",
       "6                                  MariaDB[21]   \n",
       "7                                        MySQL   \n",
       "8                                    MySQL[25]   \n",
       "9              Microsoft SQL Server, Cosmos DB   \n",
       "10                             Oracle Database   \n",
       "11                        Microsoft SQL Server   \n",
       "12                              Venice[30][31]   \n",
       "13                            MySQL, Redis[34]   \n",
       "14                                 MariaDB[37]   \n",
       "15                        NMDB,[39] PostgreSQL   \n",
       "\n",
       "                                                Notes  \n",
       "0           The most used search engine in the world.  \n",
       "1            The most visited social networking site.  \n",
       "2                The most popular video sharing site.  \n",
       "3                                                 NaN  \n",
       "4                                 E-commerce website.  \n",
       "5         The most used e-commerce site in the world.  \n",
       "6   A free online encyclopedia based on MediaWiki,...  \n",
       "7                               Wiki hosting service.  \n",
       "8                             Popular social network.  \n",
       "9                       Search engine from Microsoft.  \n",
       "10                              Online auction house.  \n",
       "11  An email client, for simple use. Previously kn...  \n",
       "12              World's largest professional network.  \n",
       "13                           Search engine for ideas.  \n",
       "14                          Website manager software.  \n",
       "15  The biggest video streaming service in the world.  "
      ]
     },
     "execution_count": 32,
     "metadata": {},
     "output_type": "execute_result"
    }
   ],
   "source": [
    "df.head(20)"
   ]
  },
  {
   "cell_type": "code",
   "execution_count": 33,
   "metadata": {},
   "outputs": [],
   "source": [
    "df.to_csv(\"social_networks.csv\")"
   ]
  },
  {
   "cell_type": "code",
   "execution_count": 34,
   "metadata": {},
   "outputs": [
    {
     "name": "stdout",
     "output_type": "stream",
     "text": [
      "                             Language  \\\n",
      "0  1C:Enterprise programming language   \n",
      "1                        ActionScript   \n",
      "2                                 Ada   \n",
      "3                               Aldor   \n",
      "4                            ALGOL 58   \n",
      "\n",
      "                                   Original purpose Imperative  \\\n",
      "0  Application, RAD, business, general, web, mobile        Yes   \n",
      "1                     Application, client-side, web        Yes   \n",
      "2           Application, embedded, realtime, system        Yes   \n",
      "3        Highly domain-specific, symbolic computing        Yes   \n",
      "4                                       Application        Yes   \n",
      "\n",
      "  Object-oriented Functional Procedural Generic Reflective Event-driven  \\\n",
      "0              No        Yes        Yes     Yes        Yes          Yes   \n",
      "1             Yes        Yes        Yes      No         No          Yes   \n",
      "2          Yes[2]         No     Yes[3]  Yes[4]         No           No   \n",
      "3             Yes        Yes         No      No         No           No   \n",
      "4              No         No         No      No         No           No   \n",
      "\n",
      "                             Other paradigms  \\\n",
      "0  Object-based, Prototype-based programming   \n",
      "1                            prototype-based   \n",
      "2             Concurrent,[5] distributed,[6]   \n",
      "3                                        NaN   \n",
      "4                                        NaN   \n",
      "\n",
      "                                       Standardized?  \n",
      "0                                                 No  \n",
      "1  Yes1999-2003, ActionScript 1.0 with ES3, Actio...  \n",
      "2   Yes1983, 2005, 2012, ANSI, ISO, GOST 27831-88[7]  \n",
      "3                                                 No  \n",
      "4                                                 No  \n"
     ]
    }
   ],
   "source": [
    "url = \"https://en.wikipedia.org/wiki/Comparison_of_programming_languages\"\n",
    "\n",
    "with urllib.request.urlopen(url) as i:\n",
    "    html = i.read()\n",
    "    \n",
    "data = pd.read_html(html)[1]\n",
    "print(data.head())"
   ]
  },
  {
   "cell_type": "code",
   "execution_count": 35,
   "metadata": {},
   "outputs": [],
   "source": [
    "data.to_csv(\"programming_language.csv\")"
   ]
  },
  {
   "cell_type": "code",
   "execution_count": 36,
   "metadata": {},
   "outputs": [],
   "source": [
    "import csv\n",
    "from urllib.request import urlopen\n",
    "from bs4 import BeautifulSoup"
   ]
  },
  {
   "cell_type": "code",
   "execution_count": 37,
   "metadata": {},
   "outputs": [],
   "source": [
    "html = urlopen(\"https://en.wikipedia.org/wiki/Comparison_of_programming_languages\")\n",
    "soup = BeautifulSoup(html, \"html.parser\")\n",
    "table = soup.find_all(\"table\", {\"class\": \"wikitable\"})[0]\n",
    "rows = table.findAll(\"tr\")"
   ]
  },
  {
   "cell_type": "code",
   "execution_count": 38,
   "metadata": {},
   "outputs": [],
   "source": [
    "with open(\"programming_language.csv\", \"wt+\", newline=\"\") as f:\n",
    "    writer = csv.writer(f)\n",
    "    for i in rows:\n",
    "        row = []\n",
    "        for cell in i.findAll([\"td\", \"th\"]):\n",
    "            row.append(cell.get_text())\n",
    "        writer.writerow(row)\n"
   ]
  },
  {
   "cell_type": "code",
   "execution_count": 39,
   "metadata": {},
   "outputs": [],
   "source": [
    "import pandas as pd"
   ]
  },
  {
   "cell_type": "code",
   "execution_count": 40,
   "metadata": {},
   "outputs": [
    {
     "data": {
      "text/html": [
       "<div>\n",
       "<style scoped>\n",
       "    .dataframe tbody tr th:only-of-type {\n",
       "        vertical-align: middle;\n",
       "    }\n",
       "\n",
       "    .dataframe tbody tr th {\n",
       "        vertical-align: top;\n",
       "    }\n",
       "\n",
       "    .dataframe thead th {\n",
       "        text-align: right;\n",
       "    }\n",
       "</style>\n",
       "<table border=\"1\" class=\"dataframe\">\n",
       "  <thead>\n",
       "    <tr style=\"text-align: right;\">\n",
       "      <th></th>\n",
       "      <th>Language\\n</th>\n",
       "      <th>Original purpose\\n</th>\n",
       "      <th>Imperative\\n</th>\n",
       "      <th>Object-oriented\\n</th>\n",
       "      <th>Functional\\n</th>\n",
       "      <th>Procedural\\n</th>\n",
       "      <th>Generic\\n</th>\n",
       "      <th>Reflective\\n</th>\n",
       "      <th>Event-driven\\n</th>\n",
       "      <th>Other paradigms\\n</th>\n",
       "      <th>Standardized?\\n</th>\n",
       "    </tr>\n",
       "  </thead>\n",
       "  <tbody>\n",
       "    <tr>\n",
       "      <th>0</th>\n",
       "      <td>1C:Enterprise programming language\\n</td>\n",
       "      <td>Application, RAD, business, general, web, mobi...</td>\n",
       "      <td>Yes\\n</td>\n",
       "      <td>No\\n</td>\n",
       "      <td>Yes\\n</td>\n",
       "      <td>Yes\\n</td>\n",
       "      <td>Yes\\n</td>\n",
       "      <td>Yes\\n</td>\n",
       "      <td>Yes\\n</td>\n",
       "      <td>Object-based, Prototype-based programming\\n</td>\n",
       "      <td>No\\n</td>\n",
       "    </tr>\n",
       "    <tr>\n",
       "      <th>1</th>\n",
       "      <td>ActionScript\\n</td>\n",
       "      <td>Application, client-side, web\\n</td>\n",
       "      <td>Yes\\n</td>\n",
       "      <td>Yes\\n</td>\n",
       "      <td>Yes\\n</td>\n",
       "      <td>Yes\\n</td>\n",
       "      <td>No\\n</td>\n",
       "      <td>No\\n</td>\n",
       "      <td>Yes\\n</td>\n",
       "      <td>prototype-based\\n</td>\n",
       "      <td>Yes1999-2003,  ActionScript 1.0 with ES3, Acti...</td>\n",
       "    </tr>\n",
       "    <tr>\n",
       "      <th>2</th>\n",
       "      <td>Ada\\n</td>\n",
       "      <td>Application, embedded, realtime, system\\n</td>\n",
       "      <td>Yes\\n</td>\n",
       "      <td>Yes[2]\\n</td>\n",
       "      <td>No\\n</td>\n",
       "      <td>Yes[3]\\n</td>\n",
       "      <td>Yes[4]\\n</td>\n",
       "      <td>No\\n</td>\n",
       "      <td>No\\n</td>\n",
       "      <td>Concurrent,[5] distributed,[6]\\n</td>\n",
       "      <td>Yes1983, 2005, 2012, ANSI, ISO, GOST 27831-88[...</td>\n",
       "    </tr>\n",
       "    <tr>\n",
       "      <th>3</th>\n",
       "      <td>Aldor\\n</td>\n",
       "      <td>Highly domain-specific, symbolic computing\\n</td>\n",
       "      <td>Yes\\n</td>\n",
       "      <td>Yes\\n</td>\n",
       "      <td>Yes\\n</td>\n",
       "      <td>No\\n</td>\n",
       "      <td>No\\n</td>\n",
       "      <td>No\\n</td>\n",
       "      <td>No\\n</td>\n",
       "      <td>\\n</td>\n",
       "      <td>No\\n</td>\n",
       "    </tr>\n",
       "    <tr>\n",
       "      <th>4</th>\n",
       "      <td>ALGOL 58\\n</td>\n",
       "      <td>Application\\n</td>\n",
       "      <td>Yes\\n</td>\n",
       "      <td>No\\n</td>\n",
       "      <td>No\\n</td>\n",
       "      <td>No\\n</td>\n",
       "      <td>No\\n</td>\n",
       "      <td>No\\n</td>\n",
       "      <td>No\\n</td>\n",
       "      <td>\\n</td>\n",
       "      <td>No\\n</td>\n",
       "    </tr>\n",
       "  </tbody>\n",
       "</table>\n",
       "</div>"
      ],
      "text/plain": [
       "                             Language\\n  \\\n",
       "0  1C:Enterprise programming language\\n   \n",
       "1                        ActionScript\\n   \n",
       "2                                 Ada\\n   \n",
       "3                               Aldor\\n   \n",
       "4                            ALGOL 58\\n   \n",
       "\n",
       "                                  Original purpose\\n Imperative\\n  \\\n",
       "0  Application, RAD, business, general, web, mobi...        Yes\\n   \n",
       "1                    Application, client-side, web\\n        Yes\\n   \n",
       "2          Application, embedded, realtime, system\\n        Yes\\n   \n",
       "3       Highly domain-specific, symbolic computing\\n        Yes\\n   \n",
       "4                                      Application\\n        Yes\\n   \n",
       "\n",
       "  Object-oriented\\n Functional\\n Procedural\\n Generic\\n Reflective\\n  \\\n",
       "0              No\\n        Yes\\n        Yes\\n     Yes\\n        Yes\\n   \n",
       "1             Yes\\n        Yes\\n        Yes\\n      No\\n         No\\n   \n",
       "2          Yes[2]\\n         No\\n     Yes[3]\\n  Yes[4]\\n         No\\n   \n",
       "3             Yes\\n        Yes\\n         No\\n      No\\n         No\\n   \n",
       "4              No\\n         No\\n         No\\n      No\\n         No\\n   \n",
       "\n",
       "  Event-driven\\n                            Other paradigms\\n  \\\n",
       "0          Yes\\n  Object-based, Prototype-based programming\\n   \n",
       "1          Yes\\n                            prototype-based\\n   \n",
       "2           No\\n             Concurrent,[5] distributed,[6]\\n   \n",
       "3           No\\n                                           \\n   \n",
       "4           No\\n                                           \\n   \n",
       "\n",
       "                                     Standardized?\\n  \n",
       "0                                               No\\n  \n",
       "1  Yes1999-2003,  ActionScript 1.0 with ES3, Acti...  \n",
       "2  Yes1983, 2005, 2012, ANSI, ISO, GOST 27831-88[...  \n",
       "3                                               No\\n  \n",
       "4                                               No\\n  "
      ]
     },
     "execution_count": 40,
     "metadata": {},
     "output_type": "execute_result"
    }
   ],
   "source": [
    "a = pd.read_csv(\"programming_language.csv\")\n",
    "a.head()"
   ]
  },
  {
   "attachments": {},
   "cell_type": "markdown",
   "metadata": {},
   "source": [
    "Google News by extracting"
   ]
  },
  {
   "cell_type": "code",
   "execution_count": 41,
   "metadata": {},
   "outputs": [],
   "source": [
    "import urllib.request\n",
    "from bs4 import BeautifulSoup"
   ]
  },
  {
   "cell_type": "code",
   "execution_count": 51,
   "metadata": {},
   "outputs": [
    {
     "name": "stdout",
     "output_type": "stream",
     "text": [
      "\n",
      "./articles/CBMiggFodHRwczovL3d3dy5udHYuY29tLnRyL3R1cmtpeWUvY3VtaHVyYmFza2FuaS1lcmRvZ2FuLW9udW11emRla2ktZ3VubGVyZGUteWVuaS1tdWpkZWxlci12ZXJtZXlpLXN1cmR1cmVjZWdpeiw3eW5GVk9xWjZVeVFNdjJVRzhxY2pB0gGGAWh0dHBzOi8vd3d3Lm50di5jb20udHIvYW1wL3R1cmtpeWUvY3VtaHVyYmFza2FuaS1lcmRvZ2FuLW9udW11emRla2ktZ3VubGVyZGUteWVuaS1tdWpkZWxlci12ZXJtZXlpLXN1cmR1cmVjZWdpeiw3eW5GVk9xWjZVeVFNdjJVRzhxY2pB?hl=tr&gl=TR&ceid=TR%3Atr\n",
      "\n",
      "./articles/CBMiXWh0dHBzOi8vd3d3LmhhYmVybGVyLmNvbS9wb2xpdGlrYS9jdW1odXJiYXNrYW5pLWVyZG9nYW4tZGFuLW11aGFsZWZldGUtemVoaXItMTU3MjExMjQtaGFiZXJpL9IBWGh0dHBzOi8vd3d3LmhhYmVybGVyLmNvbS9hbXAvY3VtaHVyYmFza2FuaS1lcmRvZ2FuLWRhbi1tdWhhbGVmZXRlLXplaGlyLTE1NzIxMTI0LWhhYmVyaS8?hl=tr&gl=TR&ceid=TR%3Atr\n",
      "\n",
      "./articles/CBMiYmh0dHBzOi8vd3d3Lmh1cnJpeWV0LmNvbS50ci9ndW5kZW0vc29uLWRha2lrYS1jdW1odXJiYXNrYW5pLWVyZG9nYW5kYW4tb25lbWxpLWFjaWtsYW1hbGFyLTQyMjQwMTMy0gFmaHR0cHM6Ly93d3cuaHVycml5ZXQuY29tLnRyL2FtcC9ndW5kZW0vc29uLWRha2lrYS1jdW1odXJiYXNrYW5pLWVyZG9nYW5kYW4tb25lbWxpLWFjaWtsYW1hbGFyLTQyMjQwMTMy?hl=tr&gl=TR&ceid=TR%3Atr\n",
      "\n",
      "./articles/CBMidWh0dHBzOi8vd3d3LnNhYmFoLmNvbS50ci9ndW5kZW0vMjAyMy8wMy8yNS9iYXNrYW4tZXJkb2dhbi1pbGltLXlheW1hLXZha2ZpLTUyLWdlbmVsLWt1cnVsdW5kYS1hY2lrbGFtYWxhcmRhLWJ1bHVudXlvctIBd2h0dHBzOi8vbS5zYWJhaC5jb20udHIvZ3VuZGVtLzIwMjMvMDMvMjUvYmFza2FuLWVyZG9nYW4taWxpbS15YXltYS12YWtmaS01Mi1nZW5lbC1rdXJ1bHVuZGEtYWNpa2xhbWFsYXJkYS1idWx1bnV5b3IvYW1w?hl=tr&gl=TR&ceid=TR%3Atr\n",
      "\n",
      "./articles/CBMiXmh0dHBzOi8vd3d3LnNvbmRha2lrYS5jb20vZHVueWEvaGFiZXItZnJhbnNhLXlpLWthc2lwLWthdnVyYW4tcHJvdGVzdG9sYXItaXNlLXlhcmFkaS0xNTcyMDM2OC_SAVxodHRwczovL3d3dy5zb25kYWtpa2EuY29tL2FtcC9oYWJlci1mcmFuc2EteWkta2FzaXAta2F2dXJhbi1wcm90ZXN0b2xhci1pc2UteWFyYWRpLTE1NzIwMzY4Lw?hl=tr&gl=TR&ceid=TR%3Atr\n",
      "\n",
      "./articles/CBMicGh0dHBzOi8vd3d3LnllbmljYWdnYXpldGVzaS5jb20udHIvZnJhbnNheWktYXlhZ2Eta2FsZGlyYW4tdGFzYXJpbmluLWFya2FzaW5kYWtpLWdlcmNlay1vcnRheWEtY2lrdGktNjQ1NzA3aC5odG3SAXxodHRwczovL3d3dy55ZW5pY2FnZ2F6ZXRlc2kuY29tLnRyL3NlcnZpY2UvYW1wL2ZyYW5zYXlpLWF5YWdhLWthbGRpcmFuLXRhc2FyaW5pbi1hcmthc2luZGFraS1nZXJjZWstb3J0YXlhLWNpa3RpLTY0NTcwN2guaHRt?hl=tr&gl=TR&ceid=TR%3Atr\n",
      "\n",
      "./articles/CBMiamh0dHBzOi8vd3d3LmdhemV0ZWR1dmFyLmNvbS50ci9hdnJ1cGEta29uc2V5aW5kZW4tZnJhbnNheWEtY2FncmktZ29zdGVyaS1oYWtraW5hLXNheWdpLWR1eXVuLWhhYmVyLTE2MTAwMTDSAW5odHRwczovL3d3dy5nYXpldGVkdXZhci5jb20udHIvYW1wL2F2cnVwYS1rb25zZXlpbmRlbi1mcmFuc2F5YS1jYWdyaS1nb3N0ZXJpLWhha2tpbmEtc2F5Z2ktZHV5dW4taGFiZXItMTYxMDAxMA?hl=tr&gl=TR&ceid=TR%3Atr\n",
      "\n",
      "./articles/CBMiPGh0dHBzOi8vd3d3Lm1pbGxpeWV0LmNvbS50ci9kdW55YS9mcmFuc2EteWFuZ2luLXllcmktNjkyMjI5N9IBQGh0dHBzOi8vd3d3Lm1pbGxpeWV0LmNvbS50ci9hbXAvZHVueWEvZnJhbnNhLXlhbmdpbi15ZXJpLTY5MjIyOTc?hl=tr&gl=TR&ceid=TR%3Atr\n",
      "\n",
      "./articles/CBMib2h0dHBzOi8vaGFsa3R2LmNvbS50ci9zaXlhc2V0L2N1bWh1cmEta2F0aWxhbi15ZW5pZGVuLXJlZmFodGEta3Jpei1jaWt0aS1iaXItZ3J1cC1lbGlmLWVyYmFrYW5kYW4taGFiZXItNzI2NjA2aNIBe2h0dHBzOi8vaGFsa3R2LmNvbS50ci9zZXJ2aWNlL2FtcC9zaXlhc2V0L2N1bWh1cmEta2F0aWxhbi15ZW5pZGVuLXJlZmFodGEta3Jpei1jaWt0aS1iaXItZ3J1cC1lbGlmLWVyYmFrYW5kYW4taGFiZXItNzI2NjA2aA?hl=tr&gl=TR&ceid=TR%3Atr\n",
      "\n",
      "./articles/CBMidGh0dHBzOi8vd3d3LmhhYmVydHVyay5jb20vc29uLWRha2lrYS1rbWFyYXMtZWtpbm96dS12ZS1nb2tzdW4tZGEtcGVzLXBlc2UtZGVwcmVtLXNvbi1kYWtpa2EtZGVwcmVtLWhhYmVybGVyaS0zNTc2ODU50gF2aHR0cHM6Ly9tLmhhYmVydHVyay5jb20vc29uLWRha2lrYS1rbWFyYXMtZWtpbm96dS12ZS1nb2tzdW4tZGEtcGVzLXBlc2UtZGVwcmVtLXNvbi1kYWtpa2EtZGVwcmVtLWhhYmVybGVyaS0zNTc2ODU5LWFtcA?hl=tr&gl=TR&ceid=TR%3Atr\n"
     ]
    }
   ],
   "source": [
    "class Scraper:\n",
    "    def __init__(self, site):  # The __init__ method uses a website to extract as a parameter.\n",
    "        self.site = site\n",
    "\n",
    "    def scrape(self):\n",
    "        r = urllib.request.urlopen(self.site)   # urlopen () function sends a request to a website and returns a Response object in which its HTML code is stored\n",
    "        html = r.read()  # The response of the function. read () returns the HTML of the Response object.\n",
    "        parser = \"html.parser\"  # creates a BeautifulSoup object, and pass the html variable and the “html.parser” string as a parameter\n",
    "        sp = BeautifulSoup(html, parser)\n",
    "        for tag in sp.find_all(\"a\"):  # Each time around the for loop, the variable receives the value of a new Tag object.\n",
    "            url = tag.get(\"href\")\n",
    "            if url is None:\n",
    "                continue\n",
    "            if \"articles\" in url:\n",
    "                print(\"\\n\" + url)\n",
    "\n",
    "news = \"https://news.google.com/home?hl=tr&gl=TR&ceid=TR:tr\"\n",
    "Scraper(news).scrape()\n"
   ]
  },
  {
   "attachments": {},
   "cell_type": "markdown",
   "metadata": {},
   "source": [
    "Scrape Wikipedia"
   ]
  },
  {
   "cell_type": "code",
   "execution_count": 13,
   "metadata": {},
   "outputs": [],
   "source": [
    "import wikipedia as wiki"
   ]
  },
  {
   "cell_type": "code",
   "execution_count": 14,
   "metadata": {},
   "outputs": [
    {
     "name": "stdout",
     "output_type": "stream",
     "text": [
      "['Machine learning', 'Quantum machine learning', 'Attention (machine learning)', 'Adversarial machine learning', 'Boosting (machine learning)', 'Logic learning machine', 'Transformer (machine learning model)', 'Supervised learning', 'Support vector machine', 'Artificial intelligence']\n"
     ]
    }
   ],
   "source": [
    "print(wiki.search(\"Machine learning\"))"
   ]
  },
  {
   "cell_type": "code",
   "execution_count": 17,
   "metadata": {},
   "outputs": [
    {
     "name": "stdout",
     "output_type": "stream",
     "text": [
      "None\n"
     ]
    }
   ],
   "source": [
    "print(wiki.suggest(\"Machinelearn\"))"
   ]
  },
  {
   "cell_type": "code",
   "execution_count": 20,
   "metadata": {},
   "outputs": [
    {
     "name": "stdout",
     "output_type": "stream",
     "text": [
      "Machine learning (ML) is a field of inquiry devoted to understanding and building methods that \"learn\" – that is, methods that leverage data to improve performance on some set of tasks. It is seen as a part of artificial intelligence. \n",
      "Machine learning algorithms build a model based on sample data, known as training data, in order to make predictions or decisions without being explicitly programmed to do so. Machine learning algorithms are used in a wide variety of applications, such as in medicine, email filtering, speech recognition, agriculture, and computer vision, where it is difficult or unfeasible to develop conventional algorithms to perform the needed tasks.A subset of machine learning is closely related to computational statistics, which focuses on making predictions using computers, but not all machine learning is statistical learning. The study of mathematical optimization delivers methods, theory and application domains to the field of machine learning. Data mining is a related field of study, focusing on exploratory data analysis through unsupervised learning.Some implementations of machine learning use data and neural networks in a way that mimics the working of a biological brain.In its application across business problems, machine learning is also referred to as predictive analytics.\n"
     ]
    }
   ],
   "source": [
    "print(wiki.summary(\"Machinelearning\"))"
   ]
  },
  {
   "cell_type": "code",
   "execution_count": 21,
   "metadata": {},
   "outputs": [
    {
     "name": "stdout",
     "output_type": "stream",
     "text": [
      "L'apprentissage automatique, (en anglais : machine learning, litt. « apprentissage machine, »), apprentissage artificiel ou apprentissage statistique est un  champ d'étude de l'intelligence artificielle qui se fonde sur des approches mathématiques et statistiques pour donner aux ordinateurs la capacité d'« apprendre » à partir de données, c'est-à-dire d'améliorer leurs performances à résoudre des tâches sans être explicitement programmés pour chacune. Plus largement, il concerne la conception, l'analyse, l'optimisation, le développement et l'implémentation de telles méthodes. On parle d'apprentissage statistique car l'apprentissage consiste à créer un modèle dont l'erreur statistique moyenne est la plus faible possible.\n",
      "L'apprentissage automatique comporte généralement deux phases. La première consiste à estimer un modèle à partir de données, appelées observations, qui sont disponibles et en nombre fini, lors de la phase de conception du système. L'estimation du modèle consiste à résoudre une tâche pratique, telle que traduire un discours, estimer une densité de probabilité, reconnaître la présence d'un chat dans une photographie ou participer à la conduite d'un véhicule autonome. Cette phase dite « d'apprentissage » ou « d'entraînement » est généralement réalisée préalablement à l'utilisation pratique du modèle. La seconde phase correspond à la mise en production : le modèle étant déterminé, de nouvelles données peuvent alors être soumises afin d'obtenir le résultat correspondant à la tâche souhaitée. En pratique, certains systèmes peuvent poursuivre leur apprentissage une fois en production, pour peu qu'ils aient un moyen d'obtenir un retour sur la qualité des résultats produits.\n",
      "Selon les informations disponibles durant la phase d'apprentissage, l'apprentissage est qualifié de différentes manières. Si les données sont étiquetées (c'est-à-dire que la réponse à la tâche est connue pour ces données), il s'agit d'un apprentissage supervisé. On parle de classification ou de classement si les étiquettes sont discrètes, ou de régression si elles sont continues. Si le modèle est appris de manière incrémentale en fonction d'une récompense reçue par le programme pour chacune des actions entreprises, on parle d'apprentissage par renforcement. Dans le cas le plus général, sans étiquette, on cherche à déterminer la structure sous-jacente des données (qui peuvent être une densité de probabilité) et il s'agit alors d'apprentissage non supervisé. L'apprentissage automatique peut être appliqué à différents types de données, tels des graphes, des arbres, des courbes, ou plus simplement des vecteurs de caractéristiques, qui peuvent être des variables qualitatives ou quantitatives continues ou discrètes.\n"
     ]
    }
   ],
   "source": [
    "wiki.set_lang(\"fr\")\n",
    "print(wiki.summary(\"Machinelearning\"))"
   ]
  },
  {
   "cell_type": "code",
   "execution_count": 22,
   "metadata": {},
   "outputs": [],
   "source": [
    "wiki.set_lang(\"en\")\n",
    "p = wiki.page(\"Machinelearning\")"
   ]
  },
  {
   "cell_type": "code",
   "execution_count": 23,
   "metadata": {},
   "outputs": [
    {
     "name": "stdout",
     "output_type": "stream",
     "text": [
      "Machine learning\n"
     ]
    }
   ],
   "source": [
    "print(p.title)"
   ]
  },
  {
   "cell_type": "code",
   "execution_count": 24,
   "metadata": {},
   "outputs": [
    {
     "name": "stdout",
     "output_type": "stream",
     "text": [
      "https://en.wikipedia.org/wiki/Machine_learning\n"
     ]
    }
   ],
   "source": [
    "print(p.url)"
   ]
  },
  {
   "cell_type": "code",
   "execution_count": 25,
   "metadata": {},
   "outputs": [
    {
     "name": "stdout",
     "output_type": "stream",
     "text": [
      "Machine learning (ML) is a field of inquiry devoted to understanding and building methods that \"learn\" – that is, methods that leverage data to improve performance on some set of tasks. It is seen as a part of artificial intelligence. \n",
      "Machine learning algorithms build a model based on sample data, known as training data, in order to make predictions or decisions without being explicitly programmed to do so. Machine learning algorithms are used in a wide variety of applications, such as in medicine, email filtering, speech recognition, agriculture, and computer vision, where it is difficult or unfeasible to develop conventional algorithms to perform the needed tasks.A subset of machine learning is closely related to computational statistics, which focuses on making predictions using computers, but not all machine learning is statistical learning. The study of mathematical optimization delivers methods, theory and application domains to the field of machine learning. Data mining is a related field of study, focusing on exploratory data analysis through unsupervised learning.Some implementations of machine learning use data and neural networks in a way that mimics the working of a biological brain.In its application across business problems, machine learning is also referred to as predictive analytics.\n",
      "\n",
      "\n",
      "== Overview ==\n",
      "Learning algorithms work on the basis that strategies, algorithms, and inferences that worked well in the past are likely to continue working well in the future. These inferences can be obvious, such as \"since the sun rose every morning for the last 10,000 days, it will probably rise tomorrow morning as well\". They can be nuanced, such as \"X% of families have geographically separate species with color variants, so there is a Y% chance that undiscovered black swans exist\".Machine learning programs can perform tasks without being explicitly programmed to do so. It involves computers learning from data provided so that they carry out certain tasks. For simple tasks assigned to computers, it is possible to program algorithms telling the machine how to execute all steps required to solve the problem at hand; on the computer's part, no learning is needed. For more advanced tasks, it can be challenging for a human to manually create the needed algorithms. In practice, it can turn out to be more effective to help the machine develop its own algorithm, rather than having human programmers specify every needed step.The discipline of machine learning employs various approaches to teach computers to accomplish tasks where no fully satisfactory algorithm is available. In cases where vast numbers of potential answers exist, one approach is to label some of the correct answers as valid. This can then be used as training data for the computer to improve the algorithm(s) it uses to determine correct answers. For example, to train a system for the task of digital character recognition, the MNIST dataset of handwritten digits has often been used.\n",
      "\n",
      "\n",
      "== History and relationships to other fields ==\n",
      "\n",
      "The term machine learning was coined in 1959 by Arthur Samuel, an IBM employee and pioneer in the field of computer gaming and artificial intelligence. The synonym self-teaching computers was also used in this time period.By the early 1960s an experimental \"learning machine\" with punched tape memory, called CyberTron, had been developed by Raytheon Company to analyze sonar signals, electrocardiograms, and speech patterns using rudimentary reinforcement learning. It was repetitively \"trained\" by a human operator/teacher to recognize patterns and equipped with a \"goof\" button to cause it to re-evaluate incorrect decisions. A representative book on research into machine learning during the 1960s was Nilsson's book on Learning Machines, dealing mostly with machine learning for pattern classification. Interest related to pattern recognition continued into the 1970s, as described by Duda and Hart in 1973. In 1981 a report was given on using teaching strategies so that a neural network learns to recognize 40 characters (26 letters, 10 digits, and 4 special symbols) from a computer terminal.Tom M. Mitchell provided a widely quoted, more formal definition of the algorithms studied in the machine learning field: \"A computer program is said to learn from experience E with respect to some class of tasks T and performance measure P if its performance at tasks in T, as measured by P,  improves with experience E.\" This definition of the tasks in which machine learning is concerned offers a fundamentally operational definition rather than defining the field in cognitive terms. This follows Alan Turing's proposal in his paper \"Computing Machinery and Intelligence\", in which the question \"Can machines think?\" is replaced with the question \"Can machines do what we (as thinking entities) can do?\".Modern-day machine learning has two objectives, one is to classify data based on models which have been developed, the other purpose is to make predictions for future outcomes based on these models. A hypothetical algorithm specific to classifying data may use computer vision of moles coupled with supervised learning in order to train it to classify the cancerous moles. A machine learning algorithm for stock trading may inform the trader of future potential predictions.\n",
      "\n",
      "\n",
      "=== Artificial intelligence ===\n",
      "\n",
      "As a scientific endeavor, machine learning grew out of the quest for artificial intelligence. In the early days of AI as an academic discipline, some researchers were interested in having machines learn from data. They attempted to approach the problem with various symbolic methods, as well as what was then termed \"neural networks\"; these were mostly perceptrons and other models that were later found to be reinventions of the generalized linear models of statistics. Probabilistic reasoning was also employed, especially in automated medical diagnosis.: 488 However, an increasing emphasis on the logical, knowledge-based approach caused a rift between AI and machine learning. Probabilistic systems were plagued by theoretical and practical problems of data acquisition and representation.: 488  By 1980, expert systems had come to dominate AI, and statistics was out of favor. Work on symbolic/knowledge-based learning did continue within AI, leading to inductive logic programming, but the more statistical line of research was now outside the field of AI proper, in pattern recognition and information retrieval.: 708–710, 755  Neural networks research had been abandoned by AI and computer science around the same time. This line, too, was continued outside the AI/CS field, as \"connectionism\", by researchers from other disciplines including Hopfield, Rumelhart, and Hinton. Their main success came in the mid-1980s with the reinvention of backpropagation.: 25 Machine learning (ML), reorganized as a separate field, started to flourish in the 1990s. The field changed its goal from achieving artificial intelligence to tackling solvable problems of a practical nature. It shifted focus away from the symbolic approaches it had inherited from AI, and toward methods and models borrowed from statistics, fuzzy logic, and probability theory.\n",
      "\n",
      "\n",
      "=== Data mining ===\n",
      "Machine learning and data mining often employ the same methods and overlap significantly, but while machine learning focuses on prediction, based on known properties learned from the training data, data mining focuses on the discovery of (previously) unknown properties in the data (this is the analysis step of knowledge discovery in databases). Data mining uses many machine learning methods, but with different goals; on the other hand, machine learning also employs data mining methods as \"unsupervised learning\" or as a preprocessing step to improve learner accuracy. Much of the confusion between these two research communities (which do often have separate conferences and separate journals, ECML PKDD being a major exception) comes from the basic assumptions they work with: in machine learning, performance is usually evaluated with respect to the ability to reproduce known knowledge, while in knowledge discovery and data mining (KDD) the key task is the discovery of previously unknown knowledge. Evaluated with respect to known knowledge, an uninformed (unsupervised) method will easily be outperformed by other supervised methods, while in a typical KDD task, supervised methods cannot be used due to the unavailability of training data.\n",
      "\n",
      "\n",
      "=== Optimization ===\n",
      "Machine learning also has intimate ties to optimization: many learning problems are formulated as minimization of some loss function on a training set of examples. Loss functions express the discrepancy between the predictions of the model being trained and the actual problem instances (for example, in classification, one wants to assign a label to instances, and models are trained to correctly predict the pre-assigned labels of a set of examples).\n",
      "\n",
      "\n",
      "=== Generalization ===\n",
      "The difference between optimization and machine learning arises from the goal of generalization: while optimization algorithms can minimize the loss on a training set, machine learning is concerned with minimizing the loss on unseen samples. Characterizing the generalization of various learning algorithms is an active topic of current research, especially for deep learning algorithms.\n",
      "\n",
      "\n",
      "=== Statistics ===\n",
      "Machine learning and statistics are closely related fields in terms of methods, but distinct in their principal goal: statistics draws population inferences from a sample, while machine learning finds generalizable predictive patterns. According to Michael I. Jordan, the ideas of machine learning, from methodological principles to theoretical tools, have had a long pre-history in statistics. He also suggested the term data science as a placeholder to call the overall field.Leo Breiman distinguished two statistical modeling paradigms: data model and algorithmic model, wherein \"algorithmic model\" means more or less the machine learning algorithms like Random Forest.\n",
      "Some statisticians have adopted methods from machine learning, leading to a combined field that they call statistical learning.\n",
      "\n",
      "\n",
      "=== Physics ===\n",
      "Analytical and computational techniques derived from statistical physics of disordered systems, can be extended to large-scale problems, including machine learning, e.g., to analyze the weight space of deep neural networks. Statistical physics is thus finding applications in the area of medical diagnostics.\n",
      "\n",
      "\n",
      "== Theory ==\n",
      "\n",
      "A core objective of a learner is to generalize from its experience. Generalization in this context is the ability of a learning machine to perform accurately on new, unseen examples/tasks after having experienced a learning data set. The training examples come from some generally unknown probability distribution (considered representative of the space of occurrences) and the learner has to build a general model about this space that enables it to produce sufficiently accurate predictions in new cases.\n",
      "The computational analysis of machine learning algorithms and their performance is a branch of theoretical computer science known as computational learning theory via the Probably Approximately Correct Learning (PAC) model. Because training sets are finite and the future is uncertain, learning theory usually does not yield guarantees of the performance of algorithms. Instead, probabilistic bounds on the performance are quite common. The bias–variance decomposition is one way to quantify generalization error.\n",
      "For the best performance in the context of generalization, the complexity of the hypothesis should match the complexity of the function underlying the data. If the hypothesis is less complex than the function, then the model has under fitted the data. If the complexity of the model is increased in response, then the training error decreases. But if the hypothesis is too complex, then the model is subject to overfitting and generalization will be poorer.In addition to performance bounds, learning theorists study the time complexity and feasibility of learning. In computational learning theory, a computation is considered feasible if it can be done in polynomial time. There are two kinds of time complexity results: Positive results show that a certain class of functions can be learned in polynomial time. Negative results show that certain classes cannot be learned in polynomial time.\n",
      "\n",
      "\n",
      "== Approaches ==\n",
      "\n",
      "Machine learning approaches are traditionally divided into three broad categories, which correspond to learning paradigms, depending on the nature of the \"signal\" or \"feedback\" available to the learning system:\n",
      "\n",
      "Supervised learning: The computer is presented with example inputs and their desired outputs, given by a \"teacher\", and the goal is to learn a general rule that maps inputs to outputs.\n",
      "Unsupervised learning: No labels are given to the learning algorithm, leaving it on its own to find structure in its input. Unsupervised learning can be a goal in itself (discovering hidden patterns in data) or a means towards an end (feature learning).\n",
      "Reinforcement learning: A computer program interacts with a dynamic environment in which it must perform a certain goal (such as driving a vehicle or playing a game against an opponent). As it navigates its problem space, the program is provided feedback that's analogous to rewards, which it tries to maximize.\n",
      "\n",
      "\n",
      "=== Supervised learning ===\n",
      "\n",
      "Supervised learning algorithms build a mathematical model of a set of data that contains both the inputs and the desired outputs. The data is known as training data, and consists of a set of training examples. Each training example has one or more inputs and the desired output, also known as a supervisory signal.  In the mathematical model, each training example is represented by an array or vector, sometimes called a feature vector, and the training data is represented by a matrix. Through iterative optimization of an objective function, supervised learning algorithms learn a function that can be used to predict the output associated with new inputs. An optimal function will allow the algorithm to correctly determine the output for inputs that were not a part of the training data. An algorithm that improves the accuracy of its outputs or predictions over time is said to have learned to perform that task.Types of supervised-learning algorithms include active learning, classification and regression. Classification algorithms are used when the outputs are restricted to a limited set of values, and regression algorithms are used when the outputs may have any numerical value within a range. As an example, for a classification algorithm that filters emails, the input would be an incoming email, and the output would be the name of the folder in which to file the email.\n",
      "Similarity learning is an area of supervised machine learning closely related to regression and classification, but the goal is to learn from examples using a similarity function that measures how similar or related two objects are. It has applications in ranking, recommendation systems, visual identity tracking, face verification, and speaker verification.\n",
      "\n",
      "\n",
      "=== Unsupervised learning ===\n",
      "\n",
      "Unsupervised learning algorithms take a set of data that contains only inputs, and find structure in the data, like grouping or clustering of data points. The algorithms, therefore, learn from test data that has not been labeled, classified or categorized. Instead of responding to feedback, unsupervised learning algorithms identify commonalities in the data and react based on the presence or absence of such commonalities in each new piece of data. A central application of unsupervised learning is in the field of density estimation in statistics, such as finding the probability density function. Though unsupervised learning encompasses other domains involving summarizing and explaining data features.\n",
      "Cluster analysis is the assignment of a set of observations into subsets (called clusters) so that observations within the same cluster are similar according to one or more predesignated criteria, while observations drawn from different clusters are dissimilar. Different clustering techniques make different assumptions on the structure of the data, often defined by some similarity metric and evaluated, for example, by internal compactness, or the similarity between members of the same cluster, and separation, the difference between clusters. Other methods are based on estimated density and graph connectivity.\n",
      "\n",
      "\n",
      "=== Semi-supervised learning ===\n",
      "\n",
      "Semi-supervised learning falls between unsupervised learning (without any labeled training data) and supervised learning (with completely labeled training data). Some of the training examples are missing training labels, yet many machine-learning researchers have found that unlabeled data, when used in conjunction with a small amount of labeled data, can produce a considerable improvement in learning accuracy.\n",
      "In weakly supervised learning, the training labels are noisy, limited, or imprecise; however, these labels are often cheaper to obtain, resulting in larger effective training sets.\n",
      "\n",
      "\n",
      "=== Reinforcement learning ===\n",
      "\n",
      "Reinforcement learning is an area of machine learning concerned with how software agents ought to take actions in an environment so as to maximize some notion of cumulative reward. Due to its generality, the field is studied in many other disciplines, such as game theory, control theory, operations research, information theory, simulation-based optimization, multi-agent systems, swarm intelligence, statistics and genetic algorithms. In machine learning, the environment is typically represented as a Markov decision process (MDP). Many reinforcements learning algorithms use dynamic programming techniques. Reinforcement learning algorithms do not assume knowledge of an exact mathematical model of the MDP and are used when exact models are infeasible. Reinforcement learning algorithms are used in autonomous vehicles or in learning to play a game against a human opponent.\n",
      "\n",
      "\n",
      "=== Dimensionality reduction ===\n",
      "Dimensionality reduction is a process of reducing the number of random variables under consideration by obtaining a set of principal variables. In other words, it is a process of reducing the dimension of the feature set, also called the \"number of features\". Most of the dimensionality reduction techniques can be considered as either feature elimination or extraction. One of the popular methods of dimensionality reduction is principal component analysis (PCA). PCA involves changing higher-dimensional data (e.g., 3D) to a smaller space (e.g., 2D). This results in a smaller dimension of data (2D instead of 3D), while keeping all original variables in the model without changing the data.\n",
      "The manifold hypothesis proposes that high-dimensional data sets lie along low-dimensional manifolds, and many dimensionality reduction techniques make this assumption, leading to the area of manifold learning and manifold regularization.\n",
      "\n",
      "\n",
      "=== Other types ===\n",
      "Other approaches have been developed which don't fit neatly into this three-fold categorization, and sometimes more than one is used by the same machine learning system. For example, topic modeling, meta-learning.As of 2022, deep learning is the dominant approach for much ongoing work in the field of machine learning.\n",
      "\n",
      "\n",
      "==== Self-learning ====\n",
      "Self-learning, as a machine learning paradigm was introduced in 1982 along with a neural network capable of self-learning, named crossbar adaptive array (CAA). It is learning with no external rewards and no external teacher advice. The CAA self-learning algorithm computes, in a crossbar fashion, both decisions about actions and emotions (feelings) about consequence situations. The system is driven by the interaction between cognition and emotion.\n",
      "The self-learning algorithm updates a memory matrix W =||w(a,s)|| such that in each iteration executes the following machine learning routine: \n",
      "\n",
      "in situation s perform action a\n",
      "receive consequence situation s'\n",
      "compute emotion of being in consequence situation v(s')\n",
      "update crossbar memory  w'(a,s) = w(a,s) + v(s')It is a system with only one input, situation, and only one output, action (or behavior) a. There is neither a separate reinforcement input nor an advice input from the environment. The backpropagated value (secondary reinforcement) is the emotion toward the consequence situation. The CAA exists in two environments, one is the behavioral environment where it behaves, and the other is the genetic environment, wherefrom it initially and only once receives initial emotions about situations to be encountered in the behavioral environment. After receiving the genome (species) vector from the genetic environment, the CAA learns a goal-seeking behavior, in an environment that contains both desirable and undesirable situations.\n",
      "\n",
      "\n",
      "==== Feature learning ====\n",
      "\n",
      "Several learning algorithms aim at discovering better representations of the inputs provided during training. Classic examples include principal component analysis and cluster analysis. Feature learning algorithms, also called representation learning algorithms, often attempt to preserve the information in their input but also transform it in a way that makes it useful, often as a pre-processing step before performing classification or predictions. This technique allows reconstruction of the inputs coming from the unknown data-generating distribution, while not being necessarily faithful to configurations that are implausible under that distribution. This replaces manual feature engineering, and allows a machine to both learn the features and use them to perform a specific task.\n",
      "Feature learning can be either supervised or unsupervised. In supervised feature learning, features are learned using labeled input data. Examples include artificial neural networks, multilayer perceptrons, and supervised dictionary learning. In unsupervised feature learning, features are learned with unlabeled input data.  Examples include dictionary learning, independent component analysis, autoencoders, matrix factorization and various forms of clustering.Manifold learning algorithms attempt to do so under the constraint that the learned representation is low-dimensional. Sparse coding algorithms attempt to do so under the constraint that the learned representation is sparse, meaning that the mathematical model has many zeros. Multilinear subspace learning algorithms aim to learn low-dimensional representations directly from tensor representations for multidimensional data, without reshaping them into higher-dimensional vectors. Deep learning algorithms discover multiple levels of representation, or a hierarchy of features, with higher-level, more abstract features defined in terms of (or generating) lower-level features. It has been argued that an intelligent machine is one that learns a representation that disentangles the underlying factors of variation that explain the observed data.Feature learning is motivated by the fact that machine learning tasks such as classification often require input that is mathematically and computationally convenient to process. However, real-world data such as images, video, and sensory data has not yielded attempts to algorithmically define specific features. An alternative is to discover such features or representations through examination, without relying on explicit algorithms.\n",
      "\n",
      "\n",
      "==== Sparse dictionary learning ====\n",
      "\n",
      "Sparse dictionary learning is a feature learning method where a training example is represented as a linear combination of basis functions, and is assumed to be a sparse matrix. The method is strongly NP-hard and difficult to solve approximately. A popular heuristic method for sparse dictionary learning is the K-SVD algorithm. Sparse dictionary learning has been applied in several contexts. In classification, the problem is to determine the class to which a previously unseen training example belongs. For a dictionary where each class has already been built, a new training example is associated with the class that is best sparsely represented by the corresponding dictionary. Sparse dictionary learning has also been applied in image de-noising. The key idea is that a clean image patch can be sparsely represented by an image dictionary, but the noise cannot.\n",
      "\n",
      "\n",
      "==== Anomaly detection ====\n",
      "\n",
      "In data mining, anomaly detection, also known as outlier detection, is the identification of rare items, events or observations which raise suspicions by differing significantly from the majority of the data. Typically, the anomalous items represent an issue such as bank fraud, a structural defect, medical problems or errors in a text. Anomalies are referred to as outliers, novelties, noise, deviations and exceptions.In particular, in the context of abuse and network intrusion detection, the interesting objects are often not rare objects, but unexpected bursts of inactivity. This pattern does not adhere to the common statistical definition of an outlier as a rare object. Many outlier detection methods (in particular, unsupervised algorithms) will fail on such data unless aggregated appropriately. Instead, a cluster analysis algorithm may be able to detect the micro-clusters formed by these patterns.Three broad categories of anomaly detection techniques exist. Unsupervised anomaly detection techniques detect anomalies in an unlabeled test data set under the assumption that the majority of the instances in the data set are normal, by looking for instances that seem to fit the least to the remainder of the data set. Supervised anomaly detection techniques require a data set that has been labeled as \"normal\" and \"abnormal\" and involves training a classifier (the key difference to many other statistical classification problems is the inherently unbalanced nature of outlier detection). Semi-supervised anomaly detection techniques construct a model representing normal behavior from a given normal training data set and then test the likelihood of a test instance to be generated by the model.\n",
      "\n",
      "\n",
      "==== Robot learning ====\n",
      "Robot learning is inspired by a multitude of machine learning methods, starting from supervised learning, reinforcement learning, and finally meta-learning (e.g. MAML).\n",
      "\n",
      "\n",
      "==== Association rules ====\n",
      "\n",
      "Association rule learning is a rule-based machine learning method for discovering relationships between variables in large databases. It is intended to identify strong rules discovered in databases using some measure of \"interestingness\".Rule-based machine learning is a general term for any machine learning method that identifies, learns, or evolves \"rules\" to store, manipulate or apply knowledge. The defining characteristic of a rule-based machine learning algorithm is the identification and utilization of a set of relational rules that collectively represent the knowledge captured by the system. This is in contrast to other machine learning algorithms that commonly identify a singular model that can be universally applied to any instance in order to make a prediction. Rule-based machine learning approaches include learning classifier systems, association rule learning, and artificial immune systems.\n",
      "Based on the concept of strong rules, Rakesh Agrawal, Tomasz Imieliński and Arun Swami introduced association rules for discovering regularities between products in large-scale transaction data recorded by point-of-sale (POS) systems in supermarkets. For example, the rule \n",
      "  \n",
      "    \n",
      "      \n",
      "        {\n",
      "        \n",
      "          o\n",
      "          n\n",
      "          i\n",
      "          o\n",
      "          n\n",
      "          s\n",
      "          ,\n",
      "          p\n",
      "          o\n",
      "          t\n",
      "          a\n",
      "          t\n",
      "          o\n",
      "          e\n",
      "          s\n",
      "        \n",
      "        }\n",
      "        ⇒\n",
      "        {\n",
      "        \n",
      "          b\n",
      "          u\n",
      "          r\n",
      "          g\n",
      "          e\n",
      "          r\n",
      "        \n",
      "        }\n",
      "      \n",
      "    \n",
      "    {\\displaystyle \\{\\mathrm {onions,potatoes} \\}\\Rightarrow \\{\\mathrm {burger} \\}}\n",
      "   found in the sales data of a supermarket would indicate that if a customer buys onions and potatoes together, they are likely to also buy hamburger meat. Such information can be used as the basis for decisions about marketing activities such as promotional pricing or product placements. In addition to market basket analysis, association rules are employed today in application areas including Web usage mining, intrusion detection, continuous production, and bioinformatics. In contrast with sequence mining, association rule learning typically does not consider the order of items either within a transaction or across transactions.\n",
      "Learning classifier systems (LCS) are a family of rule-based machine learning algorithms that combine a discovery component, typically a genetic algorithm, with a learning component, performing either supervised learning, reinforcement learning, or unsupervised learning. They seek to identify a set of context-dependent rules that collectively store and apply knowledge in a piecewise manner in order to make predictions.Inductive logic programming (ILP) is an approach to rule learning using logic programming as a uniform representation for input examples, background knowledge, and hypotheses. Given an encoding of the known background knowledge and a set of examples represented as a logical database of facts, an ILP system will derive a hypothesized logic program that entails all positive and no negative examples. Inductive programming is a related field that considers any kind of programming language for representing hypotheses (and not only logic programming), such as functional programs.\n",
      "Inductive logic programming is particularly useful in bioinformatics and natural language processing. Gordon Plotkin and Ehud Shapiro laid the initial theoretical foundation for inductive machine learning in a logical setting. Shapiro built their first implementation (Model Inference System) in 1981: a Prolog program that inductively inferred logic programs from positive and negative examples. The term inductive here refers to philosophical induction, suggesting a theory to explain observed facts, rather than mathematical induction, proving a property for all members of a well-ordered set.\n",
      "\n",
      "\n",
      "=== Models ===\n",
      "Performing machine learning involves creating a model, which is trained on some training data and then can process additional data to make predictions. Various types of models have been used and researched for machine learning systems.\n",
      "\n",
      "\n",
      "==== Artificial neural networks ====\n",
      "\n",
      "Artificial neural networks (ANNs), or connectionist systems, are computing systems vaguely inspired by the biological neural networks that constitute animal brains. Such systems \"learn\" to perform tasks by considering examples, generally without being programmed with any task-specific rules.\n",
      "An ANN is a model based on a collection of connected units or nodes called \"artificial neurons\", which loosely model the neurons in a biological brain. Each connection, like the synapses in a biological brain, can transmit information, a \"signal\", from one artificial neuron to another. An artificial neuron that receives a signal can process it and then signal additional artificial neurons connected to it. In common ANN implementations, the signal at a connection between artificial neurons is a real number, and the output of each artificial neuron is computed by some non-linear function of the sum of its inputs. The connections between artificial neurons are called \"edges\". Artificial neurons and edges typically have a weight that adjusts as learning proceeds. The weight increases or decreases the strength of the signal at a connection. Artificial neurons may have a threshold such that the signal is only sent if the aggregate signal crosses that threshold. Typically, artificial neurons are aggregated into layers. Different layers may perform different kinds of transformations on their inputs. Signals travel from the first layer (the input layer) to the last layer (the output layer), possibly after traversing the layers multiple times.\n",
      "The original goal of the ANN approach was to solve problems in the same way that a human brain would. However, over time, attention moved to performing specific tasks, leading to deviations from biology. Artificial neural networks have been used on a variety of tasks, including computer vision, speech recognition, machine translation, social network filtering, playing board and video games and medical diagnosis.\n",
      "Deep learning consists of multiple hidden layers in an artificial neural network. This approach tries to model the way the human brain processes light and sound into vision and hearing. Some successful applications of deep learning are computer vision and speech recognition.\n",
      "\n",
      "\n",
      "==== Decision trees ====\n",
      "\n",
      "Decision tree learning uses a decision tree as a predictive model to go from observations about an item (represented in the branches) to conclusions about the item's target value (represented in the leaves). It is one of the predictive modeling approaches used in statistics, data mining, and machine learning. Tree models where the target variable can take a discrete set of values are called classification trees; in these tree structures, leaves represent class labels, and branches represent conjunctions of features that lead to those class labels. Decision trees where the target variable can take continuous values (typically real numbers) are called regression trees. In decision analysis, a decision tree can be used to visually and explicitly represent decisions and decision making. In data mining, a decision tree describes data, but the resulting classification tree can be an input for decision-making.\n",
      "\n",
      "\n",
      "==== Support-vector machines ====\n",
      "\n",
      "Support-vector machines (SVMs), also known as support-vector networks, are a set of related supervised learning methods used for classification and regression. Given a set of training examples, each marked as belonging to one of two categories, an SVM training algorithm builds a model that predicts whether a new example falls into one category.  An SVM training algorithm is a non-probabilistic, binary, linear classifier, although methods such as Platt scaling exist to use SVM in a probabilistic classification setting. In addition to performing linear classification, SVMs can efficiently perform a non-linear classification using what is called the kernel trick, implicitly mapping their inputs into high-dimensional feature spaces.\n",
      "\n",
      "\n",
      "==== Regression analysis ====\n",
      "\n",
      "Regression analysis encompasses a large variety of statistical methods to estimate the relationship between input variables and their associated features. Its most common form is linear regression, where a single line is drawn to best fit the given data according to a mathematical criterion such as ordinary least squares. The latter is often extended by regularization methods to mitigate overfitting and bias, as in ridge regression. When dealing with non-linear problems, go-to models include polynomial regression (for example, used for trendline fitting in Microsoft Excel), logistic regression (often used in statistical classification) or even kernel regression, which introduces non-linearity by taking advantage of the kernel trick to implicitly map input variables to higher-dimensional space.\n",
      "\n",
      "\n",
      "==== Bayesian networks ====\n",
      "\n",
      "A Bayesian network, belief network, or directed acyclic graphical model is a probabilistic graphical model that represents a set of random variables and their conditional independence with a directed acyclic graph (DAG). For example, a Bayesian network could represent the probabilistic relationships between diseases and symptoms. Given symptoms, the network can be used to compute the probabilities of the presence of various diseases. Efficient algorithms exist that perform inference and learning. Bayesian networks that model sequences of variables, like speech signals or protein sequences, are called dynamic Bayesian networks. Generalizations of Bayesian networks that can represent and solve decision problems under uncertainty are called influence diagrams.\n",
      "\n",
      "\n",
      "==== Gaussian processes ====\n",
      "\n",
      "A Gaussian process is a stochastic process in which every finite collection of the random variables in the process has a multivariate normal distribution, and it relies on a pre-defined covariance function, or kernel, that models how pairs of points relate to each other depending on their locations.\n",
      "Given a set of observed points, or input–output examples, the distribution of the (unobserved) output of a new point as function of its input data can be directly computed by looking like the observed points and the covariances between those points and the new, unobserved point.\n",
      "Gaussian processes are popular surrogate models in Bayesian optimization used to do hyperparameter optimization.\n",
      "\n",
      "\n",
      "==== Genetic algorithms ====\n",
      "\n",
      "A genetic algorithm (GA) is a search algorithm and heuristic technique that mimics the process of natural selection, using methods such as mutation and crossover to generate new genotypes in the hope of finding good solutions to a given problem. In machine learning, genetic algorithms were used in the 1980s and 1990s. Conversely, machine learning techniques have been used to improve the performance of genetic and evolutionary algorithms.\n",
      "\n",
      "\n",
      "=== Training models ===\n",
      "Typically, machine learning models require a high quantity of reliable data in order for the models to perform accurate predictions. When training a machine learning model, machine learning engineers need to target and collect a large and representative sample of data. Data from the training set can be as varied as a corpus of text, a collection of images, sensor data, and data collected from individual users of a service. Overfitting is something to watch out for when training a machine learning model. Trained models derived from biased or non-evaluated data can result in skewed or undesired predictions. Bias models may result in detrimental outcomes thereby furthering the negative impacts on society or objectives. Algorithmic bias is a potential result of data not being fully prepared for training. Machine learning ethics is becoming a field of study and notably be integrated within machine learning engineering teams.\n",
      "\n",
      "\n",
      "==== Federated learning ====\n",
      "\n",
      "Federated learning is an adapted form of distributed artificial intelligence to training machine learning models that decentralizes the training process, allowing for users' privacy to be maintained by not needing to send their data to a centralized server. This also increases efficiency by decentralizing the training process to many devices. For example, Gboard uses federated machine learning to train search query prediction models on users' mobile phones without having to send individual searches back to Google.\n",
      "\n",
      "\n",
      "== Applications ==\n",
      "There are many applications for machine learning, including:\n",
      "\n",
      "In 2006, the media-services provider Netflix held the first \"Netflix Prize\" competition to find a program to better predict user preferences and improve the accuracy of its existing Cinematch movie recommendation algorithm by at least 10%. A joint team made up of researchers from AT&T Labs-Research in collaboration with the teams Big Chaos and Pragmatic Theory built an ensemble model to win the Grand Prize in 2009 for $1 million. Shortly after the prize was awarded, Netflix realized that viewers' ratings were not the best indicators of their viewing patterns (\"everything is a recommendation\") and they changed their recommendation engine accordingly. In 2010 The Wall Street Journal wrote about the firm Rebellion Research and their use of machine learning to predict the financial crisis. In 2012, co-founder of Sun Microsystems, Vinod Khosla, predicted that 80% of medical doctors jobs would be lost in the next two decades to automated machine learning medical diagnostic software. In 2014, it was reported that a machine learning algorithm had been applied in the field of art history to study fine art paintings and that it may have revealed previously unrecognized influences among artists. In 2019 Springer Nature published the first research book created using machine learning. In 2020, machine learning technology was used to help make diagnoses and aid researchers in developing a cure for COVID-19. Machine learning was recently applied to predict the pro-environmental behavior of travelers. Recently, machine learning technology was also applied to optimize smartphone's performance and thermal behavior based on the user's interaction with the phone.\n",
      "\n",
      "\n",
      "== Limitations ==\n",
      "Although machine learning has been transformative in some fields, machine-learning programs often fail to deliver expected results. Reasons for this are numerous: lack of (suitable) data, lack of access to the data, data bias, privacy problems, badly chosen tasks and algorithms, wrong tools and people, lack of resources, and evaluation problems.In 2018, a self-driving car from Uber failed to detect a pedestrian, who was killed after a collision. Attempts to use machine learning in healthcare with the IBM Watson system failed to deliver even after years of time and billions of dollars invested.Machine learning has been used as a strategy to update the evidence related to a systematic review and increased reviewer burden related to the growth of biomedical literature. While it has improved with training sets, it has not yet developed sufficiently to reduce the workload burden without limiting the necessary sensitivity for the findings research themselves.\n",
      "\n",
      "\n",
      "=== Bias ===\n",
      "\n",
      "Machine learning approaches in particular can suffer from different data biases. A machine learning system trained specifically on current customers may not be able to predict the needs of new customer groups that are not represented in the training data. When trained on man-made data, machine learning is likely to pick up the constitutional and unconscious biases already present in society. Language models learned from data have been shown to contain human-like biases. Machine learning systems used for criminal risk assessment have been found to be biased against black people. In 2015, Google photos would often tag black people as gorillas, and in 2018 this still was not well resolved, but Google reportedly was still using the workaround to remove all gorillas from the training data, and thus was not able to recognize real gorillas at all. Similar issues with recognizing non-white people have been found in many other systems. In 2016, Microsoft tested a chatbot that learned from Twitter, and it quickly picked up racist and sexist language. Because of such challenges, the effective use of machine learning may take longer to be adopted in other domains. Concern for fairness in machine learning, that is, reducing bias in machine learning and propelling its use for human good is increasingly expressed by artificial intelligence scientists, including Fei-Fei Li, who reminds engineers that \"There's nothing artificial about AI...It's inspired by people, it's created by people, and—most importantly—it impacts people. It is a powerful tool we are only just beginning to understand, and that is a profound responsibility.\"\n",
      "\n",
      "\n",
      "=== Explainability ===\n",
      "\n",
      "Explainable AI (XAI), or Interpretable AI, or Explainable Machine Learning (XML), is artificial intelligence (AI) in which humans can understand the decisions or predictions made by the AI. It contrasts with the \"black box\" concept in machine learning where even its designers cannot explain why an AI arrived at a specific decision. By refining the mental models of users of AI-powered systems and dismantling their misconceptions, XAI promises to help users perform more effectively. XAI may be an implementation of the social right to explanation.\n",
      "\n",
      "\n",
      "=== Overfitting ===\n",
      "\n",
      "Settling on a bad, overly complex theory gerrymandered to fit all the past training data is known as overfitting. Many systems attempt to reduce overfitting by rewarding a theory in accordance with how well it fits the data but penalizing the theory in accordance with how complex the theory is.\n",
      "\n",
      "\n",
      "=== Other limitations and vulnerabilities ===\n",
      "Learners can also disappoint by \"learning the wrong lesson\". A toy example is that an image classifier trained only on pictures of brown horses and black cats might conclude that all brown patches are likely to be horses. A real-world example is that, unlike humans, current image classifiers often don't primarily make judgments from the spatial relationship between components of the picture, and they learn relationships between pixels that humans are oblivious to, but that still correlate with images of certain types of real objects. Modifying these patterns on a legitimate image can result in \"adversarial\" images that the system misclassifies.Adversarial vulnerabilities can also result in nonlinear systems, or from non-pattern perturbations. Some systems are so brittle that changing a single adversarial pixel predictably induces misclassification. Machine learning models are often vulnerable to manipulation and/or evasion via adversarial machine learning.Researchers have demonstrated how backdoors can be placed undetectably into classifying (e.g., for categories \"spam\" and well-visible \"not spam\" of posts) machine learning models which are often developed and/or trained by third parties. Parties can change the classification of any input, including in cases for which a type of data/software transparency is provided, possibly including white-box access.\n",
      "\n",
      "\n",
      "== Model assessments ==\n",
      "Classification of machine learning models can be validated by accuracy estimation techniques like the holdout method, which splits the data in a training and test set (conventionally 2/3 training set and 1/3 test set designation) and evaluates the performance of the training model on the test set. In comparison, the K-fold-cross-validation method randomly partitions the data into K subsets and then K experiments are performed each respectively considering 1 subset for evaluation and the remaining K-1 subsets for training the model. In addition to the holdout and cross-validation methods, bootstrap, which samples n instances with replacement from the dataset, can be used to assess model accuracy.In addition to overall accuracy, investigators frequently report sensitivity and specificity meaning True Positive Rate (TPR) and True Negative Rate (TNR) respectively. Similarly, investigators sometimes report the false positive rate (FPR) as well as the false negative rate (FNR). However, these rates are ratios that fail to reveal their numerators and denominators. The total operating characteristic (TOC) is an effective method to express a model's diagnostic ability. TOC shows the numerators and denominators of the previously mentioned rates, thus TOC provides more information than the commonly used receiver operating characteristic (ROC) and ROC's associated area under the curve (AUC).\n",
      "\n",
      "\n",
      "== Ethics ==\n",
      "\n",
      "Machine learning poses a host of ethical questions. Systems that are trained on datasets collected with biases may exhibit these biases upon use (algorithmic bias), thus digitizing cultural prejudices. For example, in 1988, the UK's Commission for Racial Equality found that St. George's Medical School had been using a computer program trained from data of previous admissions staff and this program had denied nearly 60 candidates who were found to be either women or had non-European sounding names. Using job hiring data from a firm with racist hiring policies may lead to a machine learning system duplicating the bias by scoring job applicants by similarity to previous successful applicants. Responsible collection of data and documentation of algorithmic rules used by a system thus is a critical part of machine learning.\n",
      "AI can be well-equipped to make decisions in technical fields, which rely heavily on data and historical information. These decisions rely on the objectivity and logical reasoning. Because human languages contain biases, machines trained on language corpora will necessarily also learn these biases.Other forms of ethical challenges, not related to personal biases, are seen in health care. There are concerns among health care professionals that these systems might not be designed in the public's interest but as income-generating machines. This is especially true in the United States where there is a long-standing ethical dilemma of improving health care, but also increase profits. For example, the algorithms could be designed to provide patients with unnecessary tests or medication in which the algorithm's proprietary owners hold stakes. There is potential for machine learning in health care to provide professionals an additional tool to diagnose, medicate, and plan recovery paths for patients, but this requires these biases to be mitigated.\n",
      "\n",
      "\n",
      "== Hardware ==\n",
      "Since the 2010s, advances in both machine learning algorithms and computer hardware have led to more efficient methods for training deep neural networks (a particular narrow subdomain of machine learning) that contain many layers of non-linear hidden units. By 2019, graphic processing units (GPUs), often with AI-specific enhancements, had displaced CPUs as the dominant method of training large-scale commercial cloud AI. OpenAI estimated the hardware computing used in the largest deep learning projects from AlexNet (2012) to AlphaZero (2017), and found a 300,000-fold increase in the amount of compute required, with a doubling-time trendline of 3.4 months.\n",
      "\n",
      "\n",
      "=== Neuromorphic/Physical Neural Networks ===\n",
      "A physical neural network or Neuromorphic computer  is a type of artificial neural network in which an electrically adjustable material is used to emulate the function of a neural synapse. \"Physical\" neural network is used to emphasize the reliance on physical hardware used to emulate neurons as opposed to software-based approaches. More generally the term is applicable to other artificial neural networks in which a memristor or other electrically adjustable resistance material is used to emulate a neural synapse.\n",
      "\n",
      "\n",
      "=== Embedded Machine Learning ===\n",
      "Embedded Machine Learning is a sub-field of machine learning, where the machine learning model is run on embedded systems with limited computing resources such as wearable computers, edge devices and microcontrollers. Running machine learning model in embedded devices removes the need for transferring and storing data on cloud servers for further processing, henceforth, reducing data breaches and privacy leaks happening because of transferring data, and also minimizes theft of intellectual properties, personal data and business secrets. Embedded Machine Learning could be applied through several techniques including hardware acceleration, using approximate computing, optimization of machine learning models and many more.\n",
      "\n",
      "\n",
      "== Software ==\n",
      "Software suites containing a variety of machine learning algorithms include the following:\n",
      "\n",
      "\n",
      "=== Free and open-source software ===\n",
      "\n",
      "\n",
      "=== Proprietary software with free and open-source editions ===\n",
      "KNIME\n",
      "RapidMiner\n",
      "\n",
      "\n",
      "=== Proprietary software ===\n",
      "\n",
      "\n",
      "== Journals ==\n",
      "Journal of Machine Learning Research\n",
      "Machine Learning\n",
      "Nature Machine Intelligence\n",
      "Neural Computation\n",
      "IEEE Transactions on Pattern Analysis and Machine Intelligence\n",
      "\n",
      "\n",
      "== Conferences ==\n",
      "AAAI Conference on Artificial Intelligence\n",
      "Association for Computational Linguistics (ACL)\n",
      "European Conference on Machine Learning and Principles and Practice of Knowledge Discovery in Databases (ECML PKDD)\n",
      "International Conference on Computational Intelligence Methods for Bioinformatics and Biostatistics (CIBB)\n",
      "International Conference on Machine Learning (ICML)\n",
      "International Conference on Learning Representations (ICLR)\n",
      "International Conference on Intelligent Robots and Systems (IROS)\n",
      "Conference on Knowledge Discovery and Data Mining (KDD)\n",
      "Conference on Neural Information Processing Systems (NeurIPS)\n",
      "\n",
      "\n",
      "== See also ==\n",
      "Automated machine learning – Process of automating the application of machine learning\n",
      "Big data – Information assets characterized by high volume, velocity, and variety\n",
      "Differentiable programming – Programming paradigm\n",
      "List of important publications in machine learning\n",
      "List of datasets for machine-learning research\n",
      "\n",
      "\n",
      "== References ==\n",
      "\n",
      "\n",
      "== Sources ==\n",
      "Domingos, Pedro (September 22, 2015). The Master Algorithm: How the Quest for the Ultimate Learning Machine Will Remake Our World. Basic Books. ISBN 978-0465065707.\n",
      "Nilsson, Nils (1998). Artificial Intelligence: A New Synthesis. Morgan Kaufmann. ISBN 978-1-55860-467-4. Archived from the original on 26 July 2020. Retrieved 18 November 2019.\n",
      "Russell, Stuart J.; Norvig, Peter (2003), Artificial Intelligence: A Modern Approach (2nd ed.), Upper Saddle River, New Jersey: Prentice Hall, ISBN 0-13-790395-2.\n",
      "Poole, David; Mackworth, Alan; Goebel, Randy (1998). Computational Intelligence: A Logical Approach. New York: Oxford University Press. ISBN 978-0-19-510270-3. Archived from the original on 26 July 2020. Retrieved 22 August 2020.\n",
      "\n",
      "\n",
      "== Further reading ==\n",
      "\n",
      "\n",
      "== External links ==\n",
      "\n",
      " Quotations related to Machine learning at Wikiquote\n",
      "International Machine Learning Society\n",
      "mloss is an academic database of open-source machine learning software.\n"
     ]
    }
   ],
   "source": [
    "print(p.content)"
   ]
  },
  {
   "cell_type": "code",
   "execution_count": 26,
   "metadata": {},
   "outputs": [
    {
     "name": "stdout",
     "output_type": "stream",
     "text": [
      "['https://upload.wikimedia.org/wikipedia/commons/1/1b/AI_hierarchy.svg', 'https://upload.wikimedia.org/wikipedia/commons/7/7a/Anatomy-1751201_1280.png', 'https://upload.wikimedia.org/wikipedia/commons/4/46/Colored_neural_network.svg', 'https://upload.wikimedia.org/wikipedia/commons/5/51/Computer_Retro.svg', 'https://upload.wikimedia.org/wikipedia/commons/e/eb/Decision_Tree.jpg', 'https://upload.wikimedia.org/wikipedia/commons/4/41/Global_thinking.svg', 'https://upload.wikimedia.org/wikipedia/commons/f/fe/Kernel_Machine.svg', 'https://upload.wikimedia.org/wikipedia/commons/3/3a/Linear_regression.svg', 'https://upload.wikimedia.org/wikipedia/commons/6/68/Overfitted_Data.png', 'https://upload.wikimedia.org/wikipedia/commons/3/37/People_icon.svg', 'https://upload.wikimedia.org/wikipedia/commons/a/a7/Regressions_sine_demo.svg', 'https://upload.wikimedia.org/wikipedia/commons/f/fd/SimpleBayesNetNodes.svg', 'https://upload.wikimedia.org/wikipedia/commons/2/2a/Svm_max_sep_hyperplane_with_margin.png', 'https://upload.wikimedia.org/wikipedia/commons/f/fa/Wikiquote-logo.svg', 'https://upload.wikimedia.org/wikipedia/en/4/4a/Commons-logo.svg', 'https://upload.wikimedia.org/wikipedia/en/8/8a/OOjs_UI_icon_edit-ltr-progressive.svg', 'https://upload.wikimedia.org/wikipedia/en/9/96/Symbol_category_class.svg', 'https://upload.wikimedia.org/wikipedia/en/e/e2/Symbol_portal_class.svg']\n"
     ]
    }
   ],
   "source": [
    "print(p.images)"
   ]
  },
  {
   "cell_type": "code",
   "execution_count": 27,
   "metadata": {},
   "outputs": [
    {
     "name": "stdout",
     "output_type": "stream",
     "text": [
      "['AAAI Conference on Artificial Intelligence', 'ACM Computing Classification System', 'ACM Computing Surveys', 'ADALINE', 'AI control problem', 'AI safety', 'AI takeover', 'AI winter', 'AT&T Labs', 'Action selection', 'Activation function', 'Active learning (machine learning)', 'Adaptive website', 'Adversarial machine learning', 'Affective computing', 'Agriculture', 'Alan Mackworth', 'Alan Turing', 'AlexNet', 'Alex Graves (computer scientist)', 'Algorithm', 'Algorithm design', 'Algorithmic bias', 'Algorithmic efficiency', 'Algorithmic transparency', 'AlphaFold', 'AlphaGo', 'AlphaZero', 'Amazon Machine Learning', 'Analysis of algorithms', 'Andrew Ng', 'Angoss', 'Anomaly detection', 'Anthropic', 'Apache Mahout', 'Apache Spark', 'Apache SystemML', 'Application security', 'Applications of artificial intelligence', 'Approximate computing', 'ArXiv', 'ArXiv (identifier)', 'Array data structure', 'Arthur Samuel (computer scientist)', 'Artificial Intelligence: A Modern Approach', 'Artificial general intelligence', 'Artificial immune system', 'Artificial intelligence', 'Artificial intelligence systems integration', 'Artificial neural network', 'Artificial neuron', 'Association for Computational Linguistics', 'Association rule learning', 'Astroinformatics', 'Attention (machine learning)', 'Autoencoder', 'Automata theory', 'Automated decision-making', 'Automated machine learning', 'Automated medical diagnosis', 'Automated planning and scheduling', 'Automated theorem proving', 'Automatic differentiation', 'Autonomous car', 'Autoregressive model', 'Azure Machine Learning', 'BERT (language model)', 'BIRCH', 'Backdoor (computing)', 'Backpropagation', 'Bank fraud', 'Banking', 'Basic Books', 'Basis function', 'Batch learning', 'Batch normalization', 'Bayesian network', 'Bayesian optimization', 'Behaviorism', 'Bias–variance decomposition', 'Bias–variance tradeoff', 'Bibcode (identifier)', 'Big data', 'Binary classifier', 'Bioinformatics', 'Biological neural network', 'Biology', 'Black swan theory', 'Boosting (machine learning)', 'Bootstrap aggregating', 'Bootstrapping', 'Brain', 'Brain–computer interface', 'CURE algorithm', 'Caffe (software)', 'Canonical correlation', 'Chartered Financial Analyst (CFA)', 'ChatGPT', 'Chatbot', 'Chemical synapse', 'Cheminformatics', 'Chinese room', 'Christopher Bishop', 'Christopher M. Bishop', 'Chromosome (genetic algorithm)', 'CiteSeerX (identifier)', 'Citizen Science', 'Climate Science', 'Cluster analysis', 'Cognitive computing', 'Compiler construction', 'Computability theory', 'Computational anatomy', 'Computational biology', 'Computational chemistry', 'Computational complexity theory', 'Computational economics', 'Computational engineering', 'Computational geometry', 'Computational learning theory', 'Computational linguistics', 'Computational mathematics', 'Computational physics', 'Computational science', 'Computational social science', 'Computational statistics', 'Computer accessibility', 'Computer animation', 'Computer architecture', 'Computer data storage', 'Computer gaming', 'Computer graphics', 'Computer hardware', 'Computer network', 'Computer science', 'Computer security', 'Computer security compromised by hardware failure', 'Computer vision', 'Computing Machinery and Intelligence', 'Computing platform', 'Concurrency (computer science)', 'Concurrent computing', 'Conditional independence', 'Conditional random field', 'Conference on Knowledge Discovery and Data Mining', 'Conference on Neural Information Processing Systems', 'Connectionism', 'Continuous production', 'Control theory', 'Control variable (programming)', 'Convolution', 'Convolutional neural network', 'Corinna Cortes', 'Covariance function', 'Credit-card fraud', 'Cross-validation (statistics)', 'Crossover (genetic algorithm)', 'Crowdsourcing', 'Cryptography', 'Cyberwarfare', 'DALL-E', 'DBSCAN', 'DNA sequence', 'Dartmouth workshop', 'Data Cleaning', 'Data augmentation', 'Data collection', 'Data mining', 'Data quality', 'Data science', 'Database', 'David J. C. MacKay', 'David Rumelhart', 'David Silver (computer scientist)', 'Decision making', 'Decision support system', 'Decision tree', 'Decision tree learning', 'DeepDream', 'DeepMind', 'DeepSpeed', 'Deep learning', 'Deep learning speech synthesis', 'Deep neural network', 'Deeplearning4j', 'Demis Hassabis', 'Density estimation', 'Dependability', 'Dictionary learning', 'Differentiable function', 'Differentiable neural computer', 'Differentiable programming', 'Diffusion process', 'Digital art', 'Digital library', 'Digital marketing', 'Dimensionality reduction', 'Directed acyclic graph', 'Discipline (academia)', 'Discovery (observation)', 'Discrete mathematics', 'Distributed artificial intelligence', 'Distributed computing', 'Document management system', 'Doi (identifier)', 'Domain-specific language', 'Dynamic Bayesian network', 'Dynamic programming', 'E-commerce', 'ECML PKDD', 'ELKI', 'Echo state network', 'Edge device', 'Educational technology', 'Ehud Shapiro', 'Electrochemical RAM', 'Electronic design automation', 'Electronic publishing', 'Electronic voting', 'EleutherAI', 'Email filtering', 'Embedded system', 'Embedded systems', 'Empirical risk minimization', 'Ensemble Averaging', 'Ensemble learning', 'Entailment', 'Enterprise information system', 'Enterprise software', 'Errors and residuals', 'Ethics of artificial intelligence', 'European Conference on Machine Learning and Principles and Practice of Knowledge Discovery in Databases', 'Evolutionary algorithm', 'Existential risk from artificial general intelligence', 'Expectation–maximization algorithm', 'Expert system', 'Explainable artificial intelligence', 'Exploratory data analysis', 'Facial recognition system', 'Factor analysis', 'Fairness (machine learning)', 'False negative rate', 'False positive rate', 'Family (biology)', 'Feature engineering', 'Feature learning', 'Federated learning', 'Fei-Fei Li', 'Financial market', 'Formal language', 'Formal methods', 'Friendly artificial intelligence', 'Functional programming', 'Fuzzy clustering', 'Fuzzy logic', 'GOFAI', 'GPT-2', 'GPT-3', 'GPT-4', 'GPT-J', 'GPU', 'Game theory', 'Gated recurrent unit', 'Gaussian processes', 'Gboard', 'General game playing', 'Generalization (learning)', 'Generalized linear model', 'Generative adversarial network', 'Genetic algorithm', 'Geoff Hinton', 'Geoffrey Hinton', 'Geographic information system', 'Glossary of artificial intelligence', 'Goof', 'Google', 'Google APIs', 'Google Brain', 'Google Cloud Platform', 'Google JAX', 'Gordon Plotkin', 'Gradient descent', 'Grammar induction', 'Graph neural network', 'Graphcore', 'Graphical model', 'Graphics processing unit', 'Green computing', 'Hallucination (artificial intelligence)', 'Handwriting recognition', 'Hardware acceleration', 'Harvard University', 'Hdl (identifier)', 'Health informatics', 'Heuristic', 'Heuristic (computer science)', 'Hidden Markov model', 'Hierarchical clustering', 'History of artificial intelligence', 'Human-in-the-loop', 'Human brain', 'Human image synthesis', 'Human–computer interaction', 'Hyperparameter optimization', 'IBM', 'IBM Watson', 'IBM Watson Studio', 'IEEE Spectrum', 'ISBN (identifier)', 'ISSN (identifier)', 'I (newspaper)', 'Ian Goodfellow', 'Image compression', 'Image de-noising', 'Independent component analysis', 'Inductive bias', 'Inductive logic programming', 'Inductive programming', 'Inductive reasoning', 'Infer.NET', 'Inference', 'Influence diagram', 'Information geometry', 'Information retrieval', 'Information security', 'Information system', 'Information theory', 'Insurance', 'Integrated circuit', 'Integrated development environment', 'Interaction design', 'International Conference on Computational Intelligence Methods for Bioinformatics and Biostatistics', 'International Conference on Intelligent Robots and Systems', 'International Conference on Learning Representations', 'International Conference on Machine Learning', 'Internet fraud', 'Interpreter (computing)', 'Intrusion detection', 'Intrusion detection system', 'Isolation forest', 'Jerome H. Friedman', 'John Hopfield', 'Journal of Machine Learning Research', 'Julia (programming language)', 'Julia Angwin', 'Jürgen Schmidhuber', 'K-SVD', 'K-means clustering', 'K-nearest neighbors algorithm', 'KNIME', 'KXEN Inc.', 'Keras', 'Kernel machines', 'Kernel regression', 'Kernel trick', 'Knowledge discovery', 'Knowledge graph embedding', 'Knowledge representation and reasoning', 'Kubeflow', 'LIONsolver', 'LaMDA', 'Language model', 'Large language model', 'Leaf node', 'Learning classifier system', 'Learning curve (machine learning)', 'Learning to rank', 'Leo Breiman', 'Library (computing)', 'LightGBM', 'Linear classifier', 'Linear discriminant analysis', 'Linear regression', 'List of artificial intelligence projects', 'List of datasets for machine-learning research', 'List of important publications in computer science', 'List of programming languages for artificial intelligence', 'Local outlier factor', 'Logic in computer science', 'Logic programming', 'Logical conjunction', 'Logistic regression', 'Long short-term memory', 'Loss function', 'Loss functions for classification', 'MATLAB', 'MIT', 'MIT Computer Science and Artificial Intelligence Laboratory', 'ML.NET', 'MNIST database', 'MOA (Massive Online Analysis)', 'MXNet', 'Machine Learning (journal)', 'Machine ethics', 'Machine learning control', 'Machine perception', 'Machine translation', 'Mallet (software project)', 'Manifold', 'Manifold hypothesis', 'Manifold learning', 'Manifold regularization', 'Map (mathematics)', 'Market basket analysis', 'Marketing', 'Markov decision process', 'Mathematica', 'Mathematical analysis', 'Mathematical induction', 'Mathematical optimization', 'Mathematical software', 'Matrix (mathematics)', 'Matrix decomposition', 'Mean shift', 'Medical diagnosis', 'Medical diagnostics', 'Mehryar Mohri', 'Memristor', 'Memtransistor', 'Meta-learning (computer science)', 'Meta AI', 'Michael I. Jordan', 'Michal Aharon', 'Microcontrollers', 'Microsoft Cognitive Toolkit', 'Middleware', 'Midjourney', 'Mila (research institute)', 'Mixed reality', 'Mlpack', 'Model of computation', 'Modeling language', 'MuZero', 'Multi-agent reinforcement learning', 'Multi-agent system', 'Multi-task learning', 'Multilayer perceptron', 'Multilinear subspace learning', 'Multimedia database', 'Multiprocessing', 'Multithreading (computer architecture)', 'Multivariate normal distribution', 'Mutation (genetic algorithm)', 'Naive Bayes classifier', 'Naomi Altman', 'Natural-language understanding', 'Natural language processing', 'Natural selection', 'Nature Machine Intelligence', 'Nature Methods', 'Netflix', 'Netflix Prize', 'Network architecture', 'Network performance', 'Network protocol', 'Network scheduler', 'Network security', 'Network service', 'Network simulation', 'Networking hardware', 'Neural Computation (journal)', 'Neural Designer', 'Neural Lab', 'Neural Turing machine', 'Neural machine translation', 'Neural network', 'Neural networks', 'NeuroSolutions', 'Neuromorphic engineering', 'Neuron', 'Neurons', 'New England Journal of Medicine', 'New York Times', 'Nils Nilsson (researcher)', 'Non-negative matrix factorization', 'Numerical analysis', 'OCLC (identifier)', 'OPTICS algorithm', 'Occam learning', 'Online advertising', 'Online machine learning', 'Ontology learning', 'Open-source software', 'OpenAI', 'OpenAI Five', 'OpenNN', 'Operating system', 'Operational definition', 'Operations research', 'Optical character recognition', 'Oracle Cloud', 'Oracle Data Mining', 'Orange (software)', 'Ordinary least squares', 'Outlier', 'Outline of artificial intelligence', 'Outline of computer science', 'Outline of machine learning', 'Overfitting', 'PMC (identifier)', 'PMID (identifier)', 'Pandas (software)', 'Parallel computing', 'Paraphrase', 'Pattern recognition', 'Pedro Domingos', 'Peptide sequence', 'Perceptron', 'Peripheral', 'Peter E. Hart', 'Peter Norvig', 'Philosophy of artificial intelligence', 'Photograph manipulation', 'Physical neural network', 'Piecewise', 'Platt scaling', 'Point-of-sale', 'PolyAnalyst', 'Polynomial regression', 'Precision agriculture', 'Predictive analytics', 'Predictive modeling', 'Pricing', 'Principal component analysis', 'Printed circuit board', 'ProPublica', 'Probabilistic classification', 'Probabilistic reasoning', 'Probability', 'Probability density function', 'Probability theory', 'Probably approximately correct learning', 'Process control', 'Product placement', 'Programming language', 'Programming language theory', 'Programming paradigm', 'Programming team', 'Programming tool', 'Progress in artificial intelligence', 'Project Debater', 'Proper generalized decomposition', 'Punched tape', 'PyTorch', 'Python (programming language)', 'Q-learning', 'Quantum machine learning', 'RANSAC', 'RCASE', 'ROOT', 'Rakesh Agrawal (computer scientist)', 'Random forest', 'Random variables', 'Randomized algorithm', 'Ranking', 'RapidMiner', 'Ray Solomonoff', 'Raytheon Company', 'Real-time computing', 'Real number', 'Real numbers', 'Receiver operating characteristic', 'Recommender system', 'Rectifier (neural networks)', 'Recurrent neural network', 'Regression analysis', 'Regularization (mathematics)', 'Reinforcement learning', 'Relevance vector machine', 'Rendering (computer graphics)', 'Requirements analysis', 'Reservoir computing', 'Residual network', 'Restricted Boltzmann machine', 'Richard O. Duda', 'Ridge regression', 'Robert Tibshirani', 'Robot control', 'Robot learning', 'Robot locomotion', 'Robotics', 'Rule-based machine learning', 'S2CID (identifier)', 'SAS (software)', 'SPSS Modeler', 'STATISTICA', 'Sample (statistics)', 'Scikit-learn', 'Search algorithm', 'Search engines', 'Security service (telecommunication)', 'Self-driving car', 'Self-organizing map', 'Self-play (reinforcement learning technique)', 'Self-supervised learning', 'Semantic analysis (machine learning)', 'Semantics (computer science)', 'Semi-supervised learning', 'Sensitivity and specificity', 'Sentiment analysis', 'Seq2seq', 'SequenceL', 'Sequence mining', 'Shogun (toolbox)', 'Sigmoid function', 'Similarity learning', 'Simulation-based optimization', 'Situated approach (artificial intelligence)', 'Social computing', 'Social network', 'Social software', 'Softmax function', 'Software agent', 'Software configuration management', 'Software construction', 'Software deployment', 'Software design', 'Software development', 'Software development process', 'Software engineering', 'Software framework', 'Software maintenance', 'Software quality', 'Software repository', 'Software suite', 'Solid modeling', 'Sparse coding', 'Sparse dictionary learning', 'Sparse matrix', 'Speech recognition', 'SpiNNaker', 'Spiking neural network', 'Splunk', 'Springer Nature', 'Springer Science+Business Media', 'Stable Diffusion', 'State–action–reward–state–action', 'Statistical classification', 'Statistical inference', 'Statistical learning', 'Statistical learning in language acquisition', 'Statistical learning theory', 'Statistical manifold', 'Statistical model', 'Statistics', 'Stevan Harnad', 'Stochastic gradient descent', 'Stochastic process', 'Strongly NP-hard', 'Structural health monitoring', 'Structured prediction', 'Stuart J. Russell', 'Sun Microsystems', 'Supervised learning', 'Support-vector machine', 'Support vector machine', 'Swarm intelligence', 'Swift (programming language)', 'Symbolic artificial intelligence', 'Synapse', 'Syntactic pattern recognition', 'Synthography', 'System on a chip', 'T-distributed stochastic neighbor embedding', 'Telecommunication', 'Temporal difference learning', 'Tensor', 'TensorFlow', 'Tensor Processing Unit', 'Tensor calculus', 'Test set', 'Text corpus', 'The Master Algorithm', 'The Register', 'The Wall Street Journal', 'Theano (software)', 'Theoretical computer science', 'Theory of computation', 'Time (magazine)', 'Time complexity', 'Time series', 'Timeline of artificial intelligence', 'Timeline of machine learning', 'Titanic', 'Tom M. Mitchell', 'Tomasz Imieliński', 'Topic modeling', 'Torch (machine learning)', 'Toronto Declaration', 'Total operating characteristic', 'Training, validation, and test sets', 'Training data', 'Transformer (machine learning model)', 'Trevor Hastie', 'Turing test', 'U-Net', 'Uber', 'Ubiquitous computing', 'Unsupervised learning', 'User behavior analytics', 'Vapnik–Chervonenkis theory', 'Variational autoencoder', 'Very Large Scale Integration', 'Video game', 'Vinod Khosla', 'Virtual machine', 'Virtual reality', 'Vision processing unit', 'Vision transformer', 'Visualization (graphics)', 'Watson (computer)', 'WaveNet', 'Wayback Machine', 'Weak supervision', 'Wearable computer', 'Web usage mining', 'Weight (mathematics)', 'Weka (machine learning)', 'White-box testing', 'Word2vec', 'Word processor', 'World Wide Web', 'XGBoost', 'Yann LeCun', 'Yooreeka', 'Yoshua Bengio']\n"
     ]
    }
   ],
   "source": [
    "# get all the referals used by Wikipedia in the article\n",
    "print(p.links)"
   ]
  },
  {
   "attachments": {},
   "cell_type": "markdown",
   "metadata": {},
   "source": [
    "Web Scraping to Create CSV"
   ]
  },
  {
   "cell_type": "code",
   "execution_count": 28,
   "metadata": {},
   "outputs": [],
   "source": [
    "from bs4 import BeautifulSoup as soup\n",
    "from urllib.request import urlopen as uReq"
   ]
  },
  {
   "cell_type": "code",
   "execution_count": 29,
   "metadata": {},
   "outputs": [],
   "source": [
    "my_url=\"https://www.flipkart.com/search?q=samsung+mobiles&amp;sid=tyy%2C4io&amp;as=on&amp;as-show=on&amp;otracker=AS_QueryStore_HistoryAutoSuggest_0_2&amp;otracker1=AS_QueryStore_HistoryAutoSuggest_0_2&amp;as-pos=0&amp;as-type=HISTORY&amp;as-searchtext=sa\"\n",
    "\n",
    "uClient = uReq(my_url)\n",
    "page_html = uClient.read()\n",
    "uClient.close()\n",
    "page_soup = soup(page_html, \"html.parser\")"
   ]
  },
  {
   "cell_type": "code",
   "execution_count": 30,
   "metadata": {},
   "outputs": [
    {
     "name": "stdout",
     "output_type": "stream",
     "text": [
      "0\n"
     ]
    }
   ],
   "source": [
    "containers = page_soup.findAll(\"div\", { \"class\": \"_3O0U0u\"})\n",
    "print(len(containers))"
   ]
  },
  {
   "cell_type": "code",
   "execution_count": 31,
   "metadata": {},
   "outputs": [
    {
     "ename": "IndexError",
     "evalue": "list index out of range",
     "output_type": "error",
     "traceback": [
      "\u001b[1;31m---------------------------------------------------------------------------\u001b[0m",
      "\u001b[1;31mIndexError\u001b[0m                                Traceback (most recent call last)",
      "\u001b[1;32mc:\\Users\\TOSHIBA\\Desktop\\Projelerim\\Web-Scrape\\scraping.ipynb Cell 33\u001b[0m in \u001b[0;36m<cell line: 1>\u001b[1;34m()\u001b[0m\n\u001b[1;32m----> <a href='vscode-notebook-cell:/c%3A/Users/TOSHIBA/Desktop/Projelerim/Web-Scrape/scraping.ipynb#X42sZmlsZQ%3D%3D?line=0'>1</a>\u001b[0m \u001b[39mprint\u001b[39m(soup\u001b[39m.\u001b[39mprettify(containers[\u001b[39m0\u001b[39;49m]))\n",
      "\u001b[1;31mIndexError\u001b[0m: list index out of range"
     ]
    }
   ],
   "source": [
    "print(soup.prettify(containers[0]))"
   ]
  },
  {
   "cell_type": "code",
   "execution_count": 33,
   "metadata": {},
   "outputs": [
    {
     "ename": "IndexError",
     "evalue": "list index out of range",
     "output_type": "error",
     "traceback": [
      "\u001b[1;31m---------------------------------------------------------------------------\u001b[0m",
      "\u001b[1;31mIndexError\u001b[0m                                Traceback (most recent call last)",
      "\u001b[1;32mc:\\Users\\TOSHIBA\\Desktop\\Projelerim\\Web-Scrape\\scraping.ipynb Cell 34\u001b[0m in \u001b[0;36m<cell line: 2>\u001b[1;34m()\u001b[0m\n\u001b[0;32m      <a href='vscode-notebook-cell:/c%3A/Users/TOSHIBA/Desktop/Projelerim/Web-Scrape/scraping.ipynb#X45sZmlsZQ%3D%3D?line=0'>1</a>\u001b[0m \u001b[39m#  see the first item present in the page\u001b[39;00m\n\u001b[1;32m----> <a href='vscode-notebook-cell:/c%3A/Users/TOSHIBA/Desktop/Projelerim/Web-Scrape/scraping.ipynb#X45sZmlsZQ%3D%3D?line=1'>2</a>\u001b[0m container \u001b[39m=\u001b[39m containers[\u001b[39m0\u001b[39;49m]\n\u001b[0;32m      <a href='vscode-notebook-cell:/c%3A/Users/TOSHIBA/Desktop/Projelerim/Web-Scrape/scraping.ipynb#X45sZmlsZQ%3D%3D?line=2'>3</a>\u001b[0m \u001b[39mprint\u001b[39m(container\u001b[39m.\u001b[39mdiv\u001b[39m.\u001b[39mimg[\u001b[39m\"\u001b[39m\u001b[39malt\u001b[39m\u001b[39m\"\u001b[39m])\n",
      "\u001b[1;31mIndexError\u001b[0m: list index out of range"
     ]
    }
   ],
   "source": [
    "#  see the first item present in the page\n",
    "container = containers[0]\n",
    "print(container.div.img[\"alt\"])"
   ]
  },
  {
   "cell_type": "code",
   "execution_count": 34,
   "metadata": {},
   "outputs": [
    {
     "ename": "NameError",
     "evalue": "name 'container' is not defined",
     "output_type": "error",
     "traceback": [
      "\u001b[1;31m---------------------------------------------------------------------------\u001b[0m",
      "\u001b[1;31mNameError\u001b[0m                                 Traceback (most recent call last)",
      "\u001b[1;32mc:\\Users\\TOSHIBA\\Desktop\\Projelerim\\Web-Scrape\\scraping.ipynb Cell 35\u001b[0m in \u001b[0;36m<cell line: 2>\u001b[1;34m()\u001b[0m\n\u001b[0;32m      <a href='vscode-notebook-cell:/c%3A/Users/TOSHIBA/Desktop/Projelerim/Web-Scrape/scraping.ipynb#X46sZmlsZQ%3D%3D?line=0'>1</a>\u001b[0m \u001b[39m# ook at the price of this smartphone\u001b[39;00m\n\u001b[1;32m----> <a href='vscode-notebook-cell:/c%3A/Users/TOSHIBA/Desktop/Projelerim/Web-Scrape/scraping.ipynb#X46sZmlsZQ%3D%3D?line=1'>2</a>\u001b[0m price \u001b[39m=\u001b[39m container\u001b[39m.\u001b[39mfindAll(\u001b[39m\"\u001b[39m\u001b[39mdiv\u001b[39m\u001b[39m\"\u001b[39m, {\u001b[39m\"\u001b[39m\u001b[39mclass\u001b[39m\u001b[39m\"\u001b[39m: \u001b[39m\"\u001b[39m\u001b[39mcol col-5-12 _2o7WAb\u001b[39m\u001b[39m\"\u001b[39m})\n\u001b[0;32m      <a href='vscode-notebook-cell:/c%3A/Users/TOSHIBA/Desktop/Projelerim/Web-Scrape/scraping.ipynb#X46sZmlsZQ%3D%3D?line=2'>3</a>\u001b[0m \u001b[39mprint\u001b[39m(price[\u001b[39m0\u001b[39m]\u001b[39m.\u001b[39mtext)\n",
      "\u001b[1;31mNameError\u001b[0m: name 'container' is not defined"
     ]
    }
   ],
   "source": [
    "# ook at the price of this smartphone\n",
    "price = container.findAll(\"div\", {\"class\": \"col col-5-12 _2o7WAb\"})\n",
    "print(price[0].text)"
   ]
  },
  {
   "cell_type": "code",
   "execution_count": 35,
   "metadata": {},
   "outputs": [
    {
     "ename": "NameError",
     "evalue": "name 'container' is not defined",
     "output_type": "error",
     "traceback": [
      "\u001b[1;31m---------------------------------------------------------------------------\u001b[0m",
      "\u001b[1;31mNameError\u001b[0m                                 Traceback (most recent call last)",
      "\u001b[1;32mc:\\Users\\TOSHIBA\\Desktop\\Projelerim\\Web-Scrape\\scraping.ipynb Cell 36\u001b[0m in \u001b[0;36m<cell line: 2>\u001b[1;34m()\u001b[0m\n\u001b[0;32m      <a href='vscode-notebook-cell:/c%3A/Users/TOSHIBA/Desktop/Projelerim/Web-Scrape/scraping.ipynb#X50sZmlsZQ%3D%3D?line=0'>1</a>\u001b[0m \u001b[39m# look at its ratings from its customers\u001b[39;00m\n\u001b[1;32m----> <a href='vscode-notebook-cell:/c%3A/Users/TOSHIBA/Desktop/Projelerim/Web-Scrape/scraping.ipynb#X50sZmlsZQ%3D%3D?line=1'>2</a>\u001b[0m ratings \u001b[39m=\u001b[39m container\u001b[39m.\u001b[39mfindAll(\u001b[39m\"\u001b[39m\u001b[39mdiv\u001b[39m\u001b[39m\"\u001b[39m, {\u001b[39m\"\u001b[39m\u001b[39mclass\u001b[39m\u001b[39m\"\u001b[39m: \u001b[39m\"\u001b[39m\u001b[39mniH0FQ\u001b[39m\u001b[39m\"\u001b[39m})\n\u001b[0;32m      <a href='vscode-notebook-cell:/c%3A/Users/TOSHIBA/Desktop/Projelerim/Web-Scrape/scraping.ipynb#X50sZmlsZQ%3D%3D?line=2'>3</a>\u001b[0m \u001b[39mprint\u001b[39m(ratings[\u001b[39m0\u001b[39m]\u001b[39m.\u001b[39mtext)\n",
      "\u001b[1;31mNameError\u001b[0m: name 'container' is not defined"
     ]
    }
   ],
   "source": [
    "# look at its ratings from its customers\n",
    "ratings = container.findAll(\"div\", {\"class\": \"niH0FQ\"})\n",
    "print(ratings[0].text)"
   ]
  },
  {
   "cell_type": "code",
   "execution_count": 36,
   "metadata": {},
   "outputs": [
    {
     "data": {
      "text/plain": [
       "32"
      ]
     },
     "execution_count": 36,
     "metadata": {},
     "output_type": "execute_result"
    }
   ],
   "source": [
    "# create a CSV file and store all the mobile phones with their name, price and ratings\n",
    "filename = \"products.csv\"\n",
    "f = open(filename, \"w\")\n",
    "headers = \"Product_Name, Pricing, Ratings \\n\"\n",
    "f.write(headers)"
   ]
  },
  {
   "cell_type": "code",
   "execution_count": 37,
   "metadata": {},
   "outputs": [],
   "source": [
    "# look at what our CSV file has stored after the web scraping of Flipkart\n",
    "for container in containers:\n",
    "    product_name = container.div.img[\"alt\"]\n",
    "    price_container = container.findAll(\"div\", {\"class\": \"col col-5-12 _2o7WAb\"})\n",
    "    price = price_container[0].text.strip()\n",
    "\n",
    "    rating_container = container.findAll(\"div\", {\"class\": \"niH0FQ\"})\n",
    "    rating = rating_container[0].text\n",
    "    print(\"Product_Name:\"+ product_name)\n",
    "    print(\"Price: \" + price)\n",
    "    print(\"Ratings:\" + rating)"
   ]
  },
  {
   "attachments": {},
   "cell_type": "markdown",
   "metadata": {},
   "source": [
    "Scraping Instagram"
   ]
  },
  {
   "cell_type": "code",
   "execution_count": 42,
   "metadata": {},
   "outputs": [],
   "source": [
    "import instaloader"
   ]
  },
  {
   "cell_type": "code",
   "execution_count": 43,
   "metadata": {},
   "outputs": [
    {
     "name": "stdout",
     "output_type": "stream",
     "text": [
      "<class 'instaloader.structures.Profile'>\n"
     ]
    }
   ],
   "source": [
    "# Create an instance of Instaloader class\n",
    "bot = instaloader.Instaloader()\n",
    "\n",
    "# Load a profile from an Instagram handle\n",
    "profile = instaloader.Profile.from_username(bot.context, 'aman.kharwal')\n",
    "\n",
    "print(type(profile))"
   ]
  },
  {
   "cell_type": "code",
   "execution_count": 44,
   "metadata": {},
   "outputs": [
    {
     "name": "stdout",
     "output_type": "stream",
     "text": [
      "Username:  aman.kharwal\n",
      "User ID:  2046127138\n",
      "Number of Posts:  9\n",
      "Followers:  643\n",
      "Followees:  124\n",
      "Bio:  Embracing my quiet moments🌺\n",
      "official: @amankharwal.official https://amankharwal.medium.com/\n"
     ]
    }
   ],
   "source": [
    "print(\"Username: \", profile.username)\n",
    "print(\"User ID: \", profile.userid)\n",
    "print(\"Number of Posts: \", profile.mediacount)\n",
    "print(\"Followers: \", profile.followers)\n",
    "print(\"Followees: \", profile.followees)\n",
    "print(\"Bio: \", profile.biography,profile.external_url)"
   ]
  },
  {
   "cell_type": "code",
   "execution_count": 46,
   "metadata": {},
   "outputs": [
    {
     "ename": "ConnectionException",
     "evalue": "Login error: \"fail\" status, message \"Sorry, your password was incorrect. Please double-check your password.\".",
     "output_type": "error",
     "traceback": [
      "\u001b[1;31m---------------------------------------------------------------------------\u001b[0m",
      "\u001b[1;31mConnectionException\u001b[0m                       Traceback (most recent call last)",
      "\u001b[1;32mc:\\Users\\TOSHIBA\\Desktop\\Projelerim\\Web-Scrape\\scraping.ipynb Cell 43\u001b[0m in \u001b[0;36m<cell line: 2>\u001b[1;34m()\u001b[0m\n\u001b[0;32m      <a href='vscode-notebook-cell:/c%3A/Users/TOSHIBA/Desktop/Projelerim/Web-Scrape/scraping.ipynb#X61sZmlsZQ%3D%3D?line=0'>1</a>\u001b[0m \u001b[39m# Login with username and password in the script\u001b[39;00m\n\u001b[1;32m----> <a href='vscode-notebook-cell:/c%3A/Users/TOSHIBA/Desktop/Projelerim/Web-Scrape/scraping.ipynb#X61sZmlsZQ%3D%3D?line=1'>2</a>\u001b[0m bot\u001b[39m.\u001b[39;49mlogin(user\u001b[39m=\u001b[39;49m\u001b[39m\"\u001b[39;49m\u001b[39myour username\u001b[39;49m\u001b[39m\"\u001b[39;49m,passwd\u001b[39m=\u001b[39;49m\u001b[39m\"\u001b[39;49m\u001b[39myour password\u001b[39;49m\u001b[39m\"\u001b[39;49m)\n\u001b[0;32m      <a href='vscode-notebook-cell:/c%3A/Users/TOSHIBA/Desktop/Projelerim/Web-Scrape/scraping.ipynb#X61sZmlsZQ%3D%3D?line=3'>4</a>\u001b[0m \u001b[39m# Interactive login on terminal\u001b[39;00m\n\u001b[0;32m      <a href='vscode-notebook-cell:/c%3A/Users/TOSHIBA/Desktop/Projelerim/Web-Scrape/scraping.ipynb#X61sZmlsZQ%3D%3D?line=4'>5</a>\u001b[0m bot\u001b[39m.\u001b[39minteractive_login(\u001b[39m\"\u001b[39m\u001b[39myour username\u001b[39m\u001b[39m\"\u001b[39m)\n",
      "File \u001b[1;32mc:\\Users\\TOSHIBA\\anaconda3\\envs\\pythonProject\\lib\\site-packages\\instaloader\\instaloader.py:634\u001b[0m, in \u001b[0;36mInstaloader.login\u001b[1;34m(self, user, passwd)\u001b[0m\n\u001b[0;32m    626\u001b[0m \u001b[39mdef\u001b[39;00m \u001b[39mlogin\u001b[39m(\u001b[39mself\u001b[39m, user: \u001b[39mstr\u001b[39m, passwd: \u001b[39mstr\u001b[39m) \u001b[39m-\u001b[39m\u001b[39m>\u001b[39m \u001b[39mNone\u001b[39;00m:\n\u001b[0;32m    627\u001b[0m     \u001b[39m\"\"\"Log in to instagram with given username and password and internally store session object.\u001b[39;00m\n\u001b[0;32m    628\u001b[0m \n\u001b[0;32m    629\u001b[0m \u001b[39m    :raises InvalidArgumentException: If the provided username does not exist.\u001b[39;00m\n\u001b[1;32m   (...)\u001b[0m\n\u001b[0;32m    632\u001b[0m \u001b[39m    :raises TwoFactorAuthRequiredException: First step of 2FA login done, now call\u001b[39;00m\n\u001b[0;32m    633\u001b[0m \u001b[39m       :meth:`Instaloader.two_factor_login`.\"\"\"\u001b[39;00m\n\u001b[1;32m--> 634\u001b[0m     \u001b[39mself\u001b[39;49m\u001b[39m.\u001b[39;49mcontext\u001b[39m.\u001b[39;49mlogin(user, passwd)\n",
      "File \u001b[1;32mc:\\Users\\TOSHIBA\\anaconda3\\envs\\pythonProject\\lib\\site-packages\\instaloader\\instaloadercontext.py:244\u001b[0m, in \u001b[0;36mInstaloaderContext.login\u001b[1;34m(self, user, passwd)\u001b[0m\n\u001b[0;32m    242\u001b[0m \u001b[39mif\u001b[39;00m resp_json[\u001b[39m'\u001b[39m\u001b[39mstatus\u001b[39m\u001b[39m'\u001b[39m] \u001b[39m!=\u001b[39m \u001b[39m'\u001b[39m\u001b[39mok\u001b[39m\u001b[39m'\u001b[39m:\n\u001b[0;32m    243\u001b[0m     \u001b[39mif\u001b[39;00m \u001b[39m'\u001b[39m\u001b[39mmessage\u001b[39m\u001b[39m'\u001b[39m \u001b[39min\u001b[39;00m resp_json:\n\u001b[1;32m--> 244\u001b[0m         \u001b[39mraise\u001b[39;00m ConnectionException(\u001b[39m\"\u001b[39m\u001b[39mLogin error: \u001b[39m\u001b[39m\\\"\u001b[39;00m\u001b[39m{}\u001b[39;00m\u001b[39m\\\"\u001b[39;00m\u001b[39m status, message \u001b[39m\u001b[39m\\\"\u001b[39;00m\u001b[39m{}\u001b[39;00m\u001b[39m\\\"\u001b[39;00m\u001b[39m.\u001b[39m\u001b[39m\"\u001b[39m\u001b[39m.\u001b[39mformat(resp_json[\u001b[39m'\u001b[39m\u001b[39mstatus\u001b[39m\u001b[39m'\u001b[39m],\n\u001b[0;32m    245\u001b[0m                                                                                        resp_json[\u001b[39m'\u001b[39m\u001b[39mmessage\u001b[39m\u001b[39m'\u001b[39m]))\n\u001b[0;32m    246\u001b[0m     \u001b[39melse\u001b[39;00m:\n\u001b[0;32m    247\u001b[0m         \u001b[39mraise\u001b[39;00m ConnectionException(\u001b[39m\"\u001b[39m\u001b[39mLogin error: \u001b[39m\u001b[39m\\\"\u001b[39;00m\u001b[39m{}\u001b[39;00m\u001b[39m\\\"\u001b[39;00m\u001b[39m status.\u001b[39m\u001b[39m\"\u001b[39m\u001b[39m.\u001b[39mformat(resp_json[\u001b[39m'\u001b[39m\u001b[39mstatus\u001b[39m\u001b[39m'\u001b[39m]))\n",
      "\u001b[1;31mConnectionException\u001b[0m: Login error: \"fail\" status, message \"Sorry, your password was incorrect. Please double-check your password.\"."
     ]
    }
   ],
   "source": [
    "# Login with username and password in the script\n",
    "bot.login(user=\"your username\",passwd=\"your password\")\n",
    "\n",
    "# Interactive login on terminal\n",
    "bot.interactive_login(\"your username\") # Asks for password in the terminal"
   ]
  },
  {
   "cell_type": "code",
   "execution_count": 47,
   "metadata": {},
   "outputs": [
    {
     "ename": "LoginRequiredException",
     "evalue": "--login required to get a profile's followers.",
     "output_type": "error",
     "traceback": [
      "\u001b[1;31m---------------------------------------------------------------------------\u001b[0m",
      "\u001b[1;31mLoginRequiredException\u001b[0m                    Traceback (most recent call last)",
      "\u001b[1;32mc:\\Users\\TOSHIBA\\Desktop\\Projelerim\\Web-Scrape\\scraping.ipynb Cell 44\u001b[0m in \u001b[0;36m<cell line: 2>\u001b[1;34m()\u001b[0m\n\u001b[0;32m      <a href='vscode-notebook-cell:/c%3A/Users/TOSHIBA/Desktop/Projelerim/Web-Scrape/scraping.ipynb#X62sZmlsZQ%3D%3D?line=0'>1</a>\u001b[0m \u001b[39m# Scraping Instagram Followers and Followees\u001b[39;00m\n\u001b[1;32m----> <a href='vscode-notebook-cell:/c%3A/Users/TOSHIBA/Desktop/Projelerim/Web-Scrape/scraping.ipynb#X62sZmlsZQ%3D%3D?line=1'>2</a>\u001b[0m followers \u001b[39m=\u001b[39m [follower\u001b[39m.\u001b[39musername \u001b[39mfor\u001b[39;00m follower \u001b[39min\u001b[39;00m profile\u001b[39m.\u001b[39;49mget_followers()]\n\u001b[0;32m      <a href='vscode-notebook-cell:/c%3A/Users/TOSHIBA/Desktop/Projelerim/Web-Scrape/scraping.ipynb#X62sZmlsZQ%3D%3D?line=2'>3</a>\u001b[0m \u001b[39mprint\u001b[39m(followers)\n",
      "File \u001b[1;32mc:\\Users\\TOSHIBA\\anaconda3\\envs\\pythonProject\\lib\\site-packages\\instaloader\\structures.py:1053\u001b[0m, in \u001b[0;36mProfile.get_followers\u001b[1;34m(self)\u001b[0m\n\u001b[0;32m   1046\u001b[0m \u001b[39m\"\"\"\u001b[39;00m\n\u001b[0;32m   1047\u001b[0m \u001b[39mRetrieve list of followers of given profile.\u001b[39;00m\n\u001b[0;32m   1048\u001b[0m \u001b[39mTo use this, one needs to be logged in and private profiles has to be followed.\u001b[39;00m\n\u001b[0;32m   1049\u001b[0m \n\u001b[0;32m   1050\u001b[0m \u001b[39m:rtype: NodeIterator[Profile]\u001b[39;00m\n\u001b[0;32m   1051\u001b[0m \u001b[39m\"\"\"\u001b[39;00m\n\u001b[0;32m   1052\u001b[0m \u001b[39mif\u001b[39;00m \u001b[39mnot\u001b[39;00m \u001b[39mself\u001b[39m\u001b[39m.\u001b[39m_context\u001b[39m.\u001b[39mis_logged_in:\n\u001b[1;32m-> 1053\u001b[0m     \u001b[39mraise\u001b[39;00m LoginRequiredException(\u001b[39m\"\u001b[39m\u001b[39m--login required to get a profile\u001b[39m\u001b[39m'\u001b[39m\u001b[39ms followers.\u001b[39m\u001b[39m\"\u001b[39m)\n\u001b[0;32m   1054\u001b[0m \u001b[39mself\u001b[39m\u001b[39m.\u001b[39m_obtain_metadata()\n\u001b[0;32m   1055\u001b[0m \u001b[39mreturn\u001b[39;00m NodeIterator(\n\u001b[0;32m   1056\u001b[0m     \u001b[39mself\u001b[39m\u001b[39m.\u001b[39m_context,\n\u001b[0;32m   1057\u001b[0m     \u001b[39m'\u001b[39m\u001b[39m37479f2b8209594dde7facb0d904896a\u001b[39m\u001b[39m'\u001b[39m,\n\u001b[1;32m   (...)\u001b[0m\n\u001b[0;32m   1061\u001b[0m     \u001b[39m'\u001b[39m\u001b[39mhttps://www.instagram.com/\u001b[39m\u001b[39m{0}\u001b[39;00m\u001b[39m/\u001b[39m\u001b[39m'\u001b[39m\u001b[39m.\u001b[39mformat(\u001b[39mself\u001b[39m\u001b[39m.\u001b[39musername),\n\u001b[0;32m   1062\u001b[0m )\n",
      "\u001b[1;31mLoginRequiredException\u001b[0m: --login required to get a profile's followers."
     ]
    }
   ],
   "source": [
    "# Scraping Instagram Followers and Followees\n",
    "followers = [follower.username for follower in profile.get_followers()]\n",
    "print(followers)"
   ]
  },
  {
   "cell_type": "code",
   "execution_count": 48,
   "metadata": {},
   "outputs": [
    {
     "ename": "LoginRequiredException",
     "evalue": "--login required to get a profile's followees.",
     "output_type": "error",
     "traceback": [
      "\u001b[1;31m---------------------------------------------------------------------------\u001b[0m",
      "\u001b[1;31mLoginRequiredException\u001b[0m                    Traceback (most recent call last)",
      "\u001b[1;32mc:\\Users\\TOSHIBA\\Desktop\\Projelerim\\Web-Scrape\\scraping.ipynb Cell 45\u001b[0m in \u001b[0;36m<cell line: 2>\u001b[1;34m()\u001b[0m\n\u001b[0;32m      <a href='vscode-notebook-cell:/c%3A/Users/TOSHIBA/Desktop/Projelerim/Web-Scrape/scraping.ipynb#X63sZmlsZQ%3D%3D?line=0'>1</a>\u001b[0m \u001b[39m# Retrieve the usernames of all followees\u001b[39;00m\n\u001b[1;32m----> <a href='vscode-notebook-cell:/c%3A/Users/TOSHIBA/Desktop/Projelerim/Web-Scrape/scraping.ipynb#X63sZmlsZQ%3D%3D?line=1'>2</a>\u001b[0m followees \u001b[39m=\u001b[39m [followee\u001b[39m.\u001b[39musername \u001b[39mfor\u001b[39;00m followee \u001b[39min\u001b[39;00m profile\u001b[39m.\u001b[39;49mget_followees()]\n\u001b[0;32m      <a href='vscode-notebook-cell:/c%3A/Users/TOSHIBA/Desktop/Projelerim/Web-Scrape/scraping.ipynb#X63sZmlsZQ%3D%3D?line=2'>3</a>\u001b[0m \u001b[39mprint\u001b[39m(followees)\n",
      "File \u001b[1;32mc:\\Users\\TOSHIBA\\anaconda3\\envs\\pythonProject\\lib\\site-packages\\instaloader\\structures.py:1072\u001b[0m, in \u001b[0;36mProfile.get_followees\u001b[1;34m(self)\u001b[0m\n\u001b[0;32m   1065\u001b[0m \u001b[39m\"\"\"\u001b[39;00m\n\u001b[0;32m   1066\u001b[0m \u001b[39mRetrieve list of followees (followings) of given profile.\u001b[39;00m\n\u001b[0;32m   1067\u001b[0m \u001b[39mTo use this, one needs to be logged in and private profiles has to be followed.\u001b[39;00m\n\u001b[0;32m   1068\u001b[0m \n\u001b[0;32m   1069\u001b[0m \u001b[39m:rtype: NodeIterator[Profile]\u001b[39;00m\n\u001b[0;32m   1070\u001b[0m \u001b[39m\"\"\"\u001b[39;00m\n\u001b[0;32m   1071\u001b[0m \u001b[39mif\u001b[39;00m \u001b[39mnot\u001b[39;00m \u001b[39mself\u001b[39m\u001b[39m.\u001b[39m_context\u001b[39m.\u001b[39mis_logged_in:\n\u001b[1;32m-> 1072\u001b[0m     \u001b[39mraise\u001b[39;00m LoginRequiredException(\u001b[39m\"\u001b[39m\u001b[39m--login required to get a profile\u001b[39m\u001b[39m'\u001b[39m\u001b[39ms followees.\u001b[39m\u001b[39m\"\u001b[39m)\n\u001b[0;32m   1073\u001b[0m \u001b[39mself\u001b[39m\u001b[39m.\u001b[39m_obtain_metadata()\n\u001b[0;32m   1074\u001b[0m \u001b[39mreturn\u001b[39;00m NodeIterator(\n\u001b[0;32m   1075\u001b[0m     \u001b[39mself\u001b[39m\u001b[39m.\u001b[39m_context,\n\u001b[0;32m   1076\u001b[0m     \u001b[39m'\u001b[39m\u001b[39m58712303d941c6855d4e888c5f0cd22f\u001b[39m\u001b[39m'\u001b[39m,\n\u001b[1;32m   (...)\u001b[0m\n\u001b[0;32m   1080\u001b[0m     \u001b[39m'\u001b[39m\u001b[39mhttps://www.instagram.com/\u001b[39m\u001b[39m{0}\u001b[39;00m\u001b[39m/\u001b[39m\u001b[39m'\u001b[39m\u001b[39m.\u001b[39mformat(\u001b[39mself\u001b[39m\u001b[39m.\u001b[39musername),\n\u001b[0;32m   1081\u001b[0m )\n",
      "\u001b[1;31mLoginRequiredException\u001b[0m: --login required to get a profile's followees."
     ]
    }
   ],
   "source": [
    "# Retrieve the usernames of all followees\n",
    "followees = [followee.username for followee in profile.get_followees()]\n",
    "print(followees)"
   ]
  },
  {
   "cell_type": "code",
   "execution_count": 45,
   "metadata": {},
   "outputs": [
    {
     "name": "stdout",
     "output_type": "stream",
     "text": [
      "wwe_1\\2023-03-25_02-26-29_UTC.jpg [Kevin Owens has a gift for @s…] wwe_1\\2023-03-25_02-26-29_UTC.mp4 json \n",
      "wwe_2\\2023-03-25_01-18-00_UTC.jpg [@dominik_35 has pushed his fa…] wwe_2\\2023-03-25_01-18-00_UTC.mp4 json \n",
      "wwe_3\\2023-03-25_00-46-35_UTC.jpg [@americannightmarecody has a …] wwe_3\\2023-03-25_00-46-35_UTC.mp4 json \n",
      "wwe_4\\2023-03-25_14-01-57_UTC.jpg [7️⃣ days until #WrestleMania!!!] wwe_4\\2023-03-25_14-01-57_UTC.mp4 json \n",
      "wwe_5\\2023-03-25_03-12-23_UTC.jpg [@619iamlucha will finally ste…] wwe_5\\2023-03-25_03-12-23_UTC.mp4 json \n",
      "wwe_6\\2023-03-25_02-33-28_UTC.jpg [#TheUsos are #WrestleMania re…] wwe_6\\2023-03-25_02-33-28_UTC.mp4 json \n",
      "wwe_7\\2023-03-25_02-03-17_UTC.jpg [Friendships are being TESTED!…] wwe_7\\2023-03-25_02-03-17_UTC.mp4 json \n",
      "wwe_8\\2023-03-25_01-23-19_UTC.jpg [IT’S ON!! Father vs. Son! @do…] wwe_8\\2023-03-25_01-23-19_UTC.mp4 json \n",
      "wwe_9\\2023-03-25_01-12-17_UTC.jpg [@dominik_35 really just told …] wwe_9\\2023-03-25_01-12-17_UTC.mp4 json \n",
      "wwe_10\\2023-03-25_01-02-47_UTC.jpg [@charlottewwe is feeling VERY…] wwe_10\\2023-03-25_01-02-47_UTC.mp4 json \n",
      "wwe_11\\2023-03-25_00-36-55_UTC.jpg [@americannightmarecody leaves…] wwe_11\\2023-03-25_00-36-55_UTC.mp4 json \n",
      "wwe_12\\2023-03-24_23-03-55_UTC.jpg [Let @reallaknight talk to ya,…] wwe_12\\2023-03-24_23-03-55_UTC.mp4 json \n",
      "wwe_13\\2023-03-24_22-00-00_UTC_1.jpg wwe_13\\2023-03-24_22-00-00_UTC_2.jpg wwe_13\\2023-03-24_22-00-00_UTC_3.jpg wwe_13\\2023-03-24_22-00-00_UTC_4.jpg wwe_13\\2023-03-24_22-00-00_UTC_5.jpg [TONIGHT on #SmackDown  👊 @ame…] json \n",
      "wwe_14\\2023-03-24_21-04-43_UTC.jpg [@dominik_35 refuses to give @…] wwe_14\\2023-03-24_21-04-43_UTC.mp4 json \n",
      "wwe_15\\2023-03-24_20-30-16_UTC.jpg [@yaonlylivvonce returns to th…] wwe_15\\2023-03-24_20-30-16_UTC.mp4 json \n",
      "wwe_16\\2023-03-24_20-00-21_UTC.jpg [@americannightmarecody defini…] wwe_16\\2023-03-24_20-00-21_UTC.mp4 json \n",
      "wwe_17\\2023-03-24_19-30-07_UTC.jpg [This DDT NEARLY put @rhearipl…] wwe_17\\2023-03-24_19-30-07_UTC.mp4 json \n",
      "wwe_18\\2023-03-24_19-00-38_UTC.jpg [Happy birthday to the winning…] wwe_18\\2023-03-24_19-00-38_UTC.mp4 json \n",
      "wwe_19\\2023-03-24_18-00-13_UTC.jpg [Double KO!] wwe_19\\2023-03-24_18-00-13_UTC.mp4 json \n",
      "wwe_20\\2023-03-24_17-02-45_UTC.jpg [@americannightmarecody with s…] wwe_20\\2023-03-24_17-02-45_UTC.mp4 json \n",
      "wwe_21\\2023-03-24_16-01-05_UTC.jpg [Is @619iamlucha ever going to…] wwe_21\\2023-03-24_16-01-05_UTC.mp4 json \n",
      "wwe_22\\2023-03-24_15-00-01_UTC_1.jpg wwe_22\\2023-03-24_15-00-01_UTC_1.mp4 wwe_22\\2023-03-24_15-00-01_UTC_2.jpg wwe_22\\2023-03-24_15-00-01_UTC_2.mp4 wwe_22\\2023-03-24_15-00-01_UTC_3.jpg wwe_22\\2023-03-24_15-00-01_UTC_3.mp4 [A rough night to be a WWE Off…] json \n",
      "wwe_23\\2023-03-24_14-02-25_UTC.jpg [Just 8️⃣ more days until The …] wwe_23\\2023-03-24_14-02-25_UTC.mp4 json \n",
      "wwe_24\\2023-03-24_13-00-39_UTC.jpg [@tripleh competed with second…] wwe_24\\2023-03-24_13-00-39_UTC.mp4 json \n",
      "wwe_25\\2023-03-23_23-00-01_UTC_1.jpg wwe_25\\2023-03-23_23-00-01_UTC_1.mp4 wwe_25\\2023-03-23_23-00-01_UTC_2.jpg wwe_25\\2023-03-23_23-00-01_UTC_2.mp4 wwe_25\\2023-03-23_23-00-01_UTC_3.jpg wwe_25\\2023-03-23_23-00-01_UTC_3.mp4 wwe_25\\2023-03-23_23-00-01_UTC_4.jpg wwe_25\\2023-03-23_23-00-01_UTC_4.mp4 [Will #BrockLesnar lift @thegi…] json \n",
      "wwe_26\\2023-03-23_22-02-44_UTC.jpg [#WWERaw welcomed the incredib…] wwe_26\\2023-03-23_22-02-44_UTC.mp4 json \n",
      "wwe_27\\2023-03-23_21-00-36_UTC.jpg [@charlottewwe has spoken 👑] wwe_27\\2023-03-23_21-00-36_UTC.mp4 json \n",
      "wwe_28\\2023-03-23_20-00-18_UTC_1.jpg wwe_28\\2023-03-23_20-00-18_UTC_1.mp4 wwe_28\\2023-03-23_20-00-18_UTC_2.jpg wwe_28\\2023-03-23_20-00-18_UTC_2.mp4 wwe_28\\2023-03-23_20-00-18_UTC_3.jpg wwe_28\\2023-03-23_20-00-18_UTC_3.mp4 wwe_28\\2023-03-23_20-00-18_UTC_4.jpg wwe_28\\2023-03-23_20-00-18_UTC_4.mp4 [@dominik_35 is tearing the My…] json \n",
      "wwe_29\\2023-03-23_19-01-35_UTC.jpg [@americannightmarecody has co…] wwe_29\\2023-03-23_19-01-35_UTC.mp4 json \n",
      "wwe_30\\2023-03-23_18-02-52_UTC.jpg [What did @romanreigns see fro…] wwe_30\\2023-03-23_18-02-52_UTC.mp4 json \n",
      "wwe_31\\2023-03-23_17-02-03_UTC.jpg [@gunther_aut has not 1️⃣, but…] wwe_31\\2023-03-23_17-02-03_UTC.mp4 json \n",
      "wwe_32\\2023-03-23_16-00-17_UTC.jpg [2010: #WrestleMania debut ➡️ …] wwe_32\\2023-03-23_16-00-17_UTC.mp4 json \n",
      "wwe_33\\2023-03-23_15-00-16_UTC.jpg [Drop your #WrestleMania predi…] wwe_33\\2023-03-23_15-00-16_UTC.mp4 json \n",
      "wwe_34\\2023-03-23_14-03-31_UTC.jpg [@wwerollins TOOK OUT the secu…] wwe_34\\2023-03-23_14-03-31_UTC.mp4 json \n",
      "wwe_35\\2023-03-23_13-00-21_UTC.jpg [Just 9️⃣ days away from #Wres…] wwe_35\\2023-03-23_13-00-21_UTC.mp4 json \n",
      "wwe_36\\2023-03-22_23-00-27_UTC.jpg [Did Superman @dwighthoward ju…] wwe_36\\2023-03-22_23-00-27_UTC.mp4 json \n",
      "wwe_37\\2023-03-22_22-37-26_UTC.jpg [What did @rhearipley_wwe whis…] wwe_37\\2023-03-22_22-37-26_UTC.mp4 json \n",
      "wwe_38\\2023-03-22_22-01-19_UTC.jpg [@tripleh couldn’t believe he …] wwe_38\\2023-03-22_22-01-19_UTC.mp4 json \n",
      "wwe_39\\2023-03-22_21-05-34_UTC.jpg [The vibes are, as they say, I…] wwe_39\\2023-03-22_21-05-34_UTC.mp4 json \n",
      "wwe_40\\2023-03-22_20-02-02_UTC.jpg [There are few things that ann…] wwe_40\\2023-03-22_20-02-02_UTC.mp4 json \n",
      "wwe_41\\2023-03-22_19-00-18_UTC.jpg [Name this team of @yaonlylivv…] wwe_41\\2023-03-22_19-00-18_UTC.mp4 json \n",
      "wwe_42\\2023-03-22_18-00-51_UTC.jpg [@rhearipley_wwe’s face says e…] wwe_42\\2023-03-22_18-00-51_UTC.mp4 json \n",
      "wwe_43\\2023-03-22_17-01-35_UTC.jpg [@badbunnypr set a new standar…] wwe_43\\2023-03-22_17-01-35_UTC.mp4 json \n",
      "wwe_44\\2023-03-22_16-01-43_UTC.jpg [You already know the Mysterio…] wwe_44\\2023-03-22_16-01-43_UTC.mp4 json \n",
      "wwe_45\\2023-03-22_15-00-26_UTC.jpg [Only 🔟 more days until #Wrest…] wwe_45\\2023-03-22_15-00-26_UTC.mp4 json \n",
      "wwe_46\\2023-03-22_02-41-04_UTC.jpg [@bronbreakkerwwe and @carmelo…] wwe_46\\2023-03-22_02-41-04_UTC.mp4 json \n",
      "wwe_47\\2023-03-22_01-41-53_UTC.jpg [@johnnygargano wants an Unsan…] wwe_47\\2023-03-22_01-41-53_UTC.mp4 json \n",
      "wwe_48\\2023-03-22_01-28-42_UTC.jpg [@dragonlee95oficial got caugh…] wwe_48\\2023-03-22_01-28-42_UTC.mp4 json \n",
      "wwe_49\\2023-03-21_21-48-33_UTC_1.jpg wwe_49\\2023-03-21_21-48-33_UTC_2.jpg wwe_49\\2023-03-21_21-48-33_UTC_3.jpg wwe_49\\2023-03-21_21-48-33_UTC_4.jpg [TONIGHT on #WWENXT:   🔥 @indi…] json \n",
      "wwe_50\\2023-03-21_20-22-30_UTC.jpg [@rhearipley_wwe was in the ZONE] wwe_50\\2023-03-21_20-22-30_UTC.mp4 json \n",
      "wwe_51\\2023-03-21_19-39-19_UTC.jpg [The Beast was unleashed on #S…] wwe_51\\2023-03-21_19-39-19_UTC.mp4 json \n",
      "wwe_52\\2023-03-21_19-00-06_UTC.jpg [@rhearipley_wwe is rolling in…] wwe_52\\2023-03-21_19-00-06_UTC.mp4 json \n",
      "wwe_53\\2023-03-21_17-53-10_UTC.jpg [Don’t get @undertaker started…] wwe_53\\2023-03-21_17-53-10_UTC.mp4 json \n",
      "wwe_54\\2023-03-21_17-30-40_UTC.jpg [@619iamlucha had heard enough…] wwe_54\\2023-03-21_17-30-40_UTC.mp4 json \n",
      "wwe_55\\2023-03-21_16-38-45_UTC.jpg [Bad night for LA Knight 😮‍💨] wwe_55\\2023-03-21_16-38-45_UTC.mp4 json \n",
      "wwe_56\\2023-03-21_15-38-00_UTC.jpg [2013: Tag Team Titles  2023: …] wwe_56\\2023-03-21_15-38-00_UTC.mp4 json \n",
      "wwe_57\\2023-03-21_14-56-37_UTC.jpg [@loganpaul feeling confident …] wwe_57\\2023-03-21_14-56-37_UTC.mp4 json \n",
      "wwe_58\\2023-03-21_14-05-20_UTC.jpg [The Man was looking for The M…] wwe_58\\2023-03-21_14-05-20_UTC.mp4 json \n",
      "wwe_59\\2023-03-21_04-40-19_UTC.jpg [NEXT WEEK on the final #WWERa…] json \n",
      "wwe_60\\2023-03-21_04-09-23_UTC.jpg [The reunited @samizayn and #K…] json \n",
      "wwe_61\\2023-03-21_03-43-08_UTC.jpg [@americannightmarecody sugges…] wwe_61\\2023-03-21_03-43-08_UTC.mp4 json \n",
      "wwe_62\\2023-03-21_03-26-36_UTC.jpg [@romanreigns chose violence t…] wwe_62\\2023-03-21_03-26-36_UTC.mp4 json \n",
      "wwe_63\\2023-03-21_03-08-01_UTC.jpg [It’s time to hear from Your T…] wwe_63\\2023-03-21_03-08-01_UTC.mp4 json \n",
      "wwe_64\\2023-03-21_02-53-45_UTC.jpg [This is why @biancabelairwwe …] wwe_64\\2023-03-21_02-53-45_UTC.mp4 json \n",
      "wwe_65\\2023-03-21_02-17-58_UTC.jpg [How do WWE Superstars get rea…] wwe_65\\2023-03-21_02-17-58_UTC.mp4 json \n",
      "wwe_66\\2023-03-21_02-09-19_UTC.jpg [@rhearipley_wwe has some word…] wwe_66\\2023-03-21_02-09-19_UTC.mp4 json \n",
      "wwe_67\\2023-03-21_01-56-32_UTC.jpg [@rhearipley_wwe has arrived t…] wwe_67\\2023-03-21_01-56-32_UTC.mp4 json \n",
      "wwe_68\\2023-03-21_01-36-04_UTC.jpg [@wwerollins has to watch out …] wwe_68\\2023-03-21_01-36-04_UTC.mp4 json \n",
      "wwe_69\\2023-03-21_01-26-06_UTC.jpg [That was no accident… ❌🎙️🤣 #W…] wwe_69\\2023-03-21_01-26-06_UTC.mp4 json \n",
      "wwe_70\\2023-03-21_01-20-44_UTC.jpg [Don’t be a jerk. Be Logang. 🔥…] wwe_70\\2023-03-21_01-20-44_UTC.mp4 json \n",
      "wwe_71\\2023-03-21_01-13-30_UTC.jpg [“That’s gonna be a hard pass”…] wwe_71\\2023-03-21_01-13-30_UTC.mp4 json \n",
      "wwe_72\\2023-03-21_01-08-06_UTC.jpg [@romanreigns wants to make su…] wwe_72\\2023-03-21_01-08-06_UTC.mp4 json \n",
      "wwe_73\\2023-03-21_00-41-49_UTC.jpg [‼️ It’s official! @samizayn &…] wwe_73\\2023-03-21_00-41-49_UTC.mp4 json \n",
      "wwe_74\\2023-03-21_00-29-28_UTC.jpg [@romanreigns will address his…] wwe_74\\2023-03-21_00-29-28_UTC.mp4 "
     ]
    },
    {
     "ename": "KeyboardInterrupt",
     "evalue": "",
     "output_type": "error",
     "traceback": [
      "\u001b[1;31m---------------------------------------------------------------------------\u001b[0m",
      "\u001b[1;31mKeyboardInterrupt\u001b[0m                         Traceback (most recent call last)",
      "\u001b[1;32mc:\\Users\\TOSHIBA\\Desktop\\Projelerim\\Web-Scrape\\scraping.ipynb Cell 46\u001b[0m in \u001b[0;36m<cell line: 8>\u001b[1;34m()\u001b[0m\n\u001b[0;32m      <a href='vscode-notebook-cell:/c%3A/Users/TOSHIBA/Desktop/Projelerim/Web-Scrape/scraping.ipynb#X54sZmlsZQ%3D%3D?line=6'>7</a>\u001b[0m \u001b[39m# Iterate and download\u001b[39;00m\n\u001b[0;32m      <a href='vscode-notebook-cell:/c%3A/Users/TOSHIBA/Desktop/Projelerim/Web-Scrape/scraping.ipynb#X54sZmlsZQ%3D%3D?line=7'>8</a>\u001b[0m \u001b[39mfor\u001b[39;00m index, post \u001b[39min\u001b[39;00m \u001b[39menumerate\u001b[39m(posts, \u001b[39m1\u001b[39m):\n\u001b[1;32m----> <a href='vscode-notebook-cell:/c%3A/Users/TOSHIBA/Desktop/Projelerim/Web-Scrape/scraping.ipynb#X54sZmlsZQ%3D%3D?line=8'>9</a>\u001b[0m     bot\u001b[39m.\u001b[39;49mdownload_post(post, target\u001b[39m=\u001b[39;49m\u001b[39mf\u001b[39;49m\u001b[39m\"\u001b[39;49m\u001b[39m{\u001b[39;49;00mprofile\u001b[39m.\u001b[39;49musername\u001b[39m}\u001b[39;49;00m\u001b[39m_\u001b[39;49m\u001b[39m{\u001b[39;49;00mindex\u001b[39m}\u001b[39;49;00m\u001b[39m\"\u001b[39;49m)\n",
      "File \u001b[1;32mc:\\Users\\TOSHIBA\\anaconda3\\envs\\pythonProject\\lib\\site-packages\\instaloader\\instaloader.py:756\u001b[0m, in \u001b[0;36mInstaloader.download_post\u001b[1;34m(self, post, target)\u001b[0m\n\u001b[0;32m    753\u001b[0m \u001b[39m# Download video if desired\u001b[39;00m\n\u001b[0;32m    754\u001b[0m \u001b[39mif\u001b[39;00m post\u001b[39m.\u001b[39mis_video \u001b[39mand\u001b[39;00m \u001b[39mself\u001b[39m\u001b[39m.\u001b[39mdownload_videos:\n\u001b[0;32m    755\u001b[0m     downloaded \u001b[39m&\u001b[39m\u001b[39m=\u001b[39m (\u001b[39mnot\u001b[39;00m _already_downloaded(filename \u001b[39m+\u001b[39m \u001b[39m\"\u001b[39m\u001b[39m.mp4\u001b[39m\u001b[39m\"\u001b[39m) \u001b[39mand\u001b[39;00m\n\u001b[1;32m--> 756\u001b[0m                    \u001b[39mself\u001b[39;49m\u001b[39m.\u001b[39;49mdownload_pic(filename\u001b[39m=\u001b[39;49mfilename, url\u001b[39m=\u001b[39;49mpost\u001b[39m.\u001b[39;49mvideo_url, mtime\u001b[39m=\u001b[39;49mpost\u001b[39m.\u001b[39;49mdate_local))\n\u001b[0;32m    758\u001b[0m \u001b[39m# Download geotags if desired\u001b[39;00m\n\u001b[0;32m    759\u001b[0m \u001b[39mif\u001b[39;00m \u001b[39mself\u001b[39m\u001b[39m.\u001b[39mdownload_geotags \u001b[39mand\u001b[39;00m post\u001b[39m.\u001b[39mlocation:\n",
      "File \u001b[1;32mc:\\Users\\TOSHIBA\\anaconda3\\envs\\pythonProject\\lib\\site-packages\\instaloader\\instaloader.py:97\u001b[0m, in \u001b[0;36m_retry_on_connection_error.<locals>.call\u001b[1;34m(instaloader, *args, **kwargs)\u001b[0m\n\u001b[0;32m     94\u001b[0m \u001b[39m@wraps\u001b[39m(func)\n\u001b[0;32m     95\u001b[0m \u001b[39mdef\u001b[39;00m \u001b[39mcall\u001b[39m(instaloader, \u001b[39m*\u001b[39margs, \u001b[39m*\u001b[39m\u001b[39m*\u001b[39mkwargs):\n\u001b[0;32m     96\u001b[0m     \u001b[39mtry\u001b[39;00m:\n\u001b[1;32m---> 97\u001b[0m         \u001b[39mreturn\u001b[39;00m func(instaloader, \u001b[39m*\u001b[39margs, \u001b[39m*\u001b[39m\u001b[39m*\u001b[39mkwargs)\n\u001b[0;32m     98\u001b[0m     \u001b[39mexcept\u001b[39;00m (urllib3\u001b[39m.\u001b[39mexceptions\u001b[39m.\u001b[39mHTTPError, requests\u001b[39m.\u001b[39mexceptions\u001b[39m.\u001b[39mRequestException, ConnectionException) \u001b[39mas\u001b[39;00m err:\n\u001b[0;32m     99\u001b[0m         error_string \u001b[39m=\u001b[39m \u001b[39m\"\u001b[39m\u001b[39m{}\u001b[39;00m\u001b[39m(\u001b[39m\u001b[39m{}\u001b[39;00m\u001b[39m): \u001b[39m\u001b[39m{}\u001b[39;00m\u001b[39m\"\u001b[39m\u001b[39m.\u001b[39mformat(func\u001b[39m.\u001b[39m\u001b[39m__name__\u001b[39m, \u001b[39m'\u001b[39m\u001b[39m, \u001b[39m\u001b[39m'\u001b[39m\u001b[39m.\u001b[39mjoin([\u001b[39mrepr\u001b[39m(arg) \u001b[39mfor\u001b[39;00m arg \u001b[39min\u001b[39;00m args]), err)\n",
      "File \u001b[1;32mc:\\Users\\TOSHIBA\\anaconda3\\envs\\pythonProject\\lib\\site-packages\\instaloader\\instaloader.py:356\u001b[0m, in \u001b[0;36mInstaloader.download_pic\u001b[1;34m(self, filename, url, mtime, filename_suffix, _attempt)\u001b[0m\n\u001b[0;32m    354\u001b[0m     \u001b[39mself\u001b[39m\u001b[39m.\u001b[39mcontext\u001b[39m.\u001b[39mlog(filename \u001b[39m+\u001b[39m \u001b[39m'\u001b[39m\u001b[39m exists\u001b[39m\u001b[39m'\u001b[39m, end\u001b[39m=\u001b[39m\u001b[39m'\u001b[39m\u001b[39m \u001b[39m\u001b[39m'\u001b[39m, flush\u001b[39m=\u001b[39m\u001b[39mTrue\u001b[39;00m)\n\u001b[0;32m    355\u001b[0m     \u001b[39mreturn\u001b[39;00m \u001b[39mFalse\u001b[39;00m\n\u001b[1;32m--> 356\u001b[0m \u001b[39mself\u001b[39;49m\u001b[39m.\u001b[39;49mcontext\u001b[39m.\u001b[39;49mwrite_raw(resp, filename)\n\u001b[0;32m    357\u001b[0m os\u001b[39m.\u001b[39mutime(filename, (datetime\u001b[39m.\u001b[39mnow()\u001b[39m.\u001b[39mtimestamp(), mtime\u001b[39m.\u001b[39mtimestamp()))\n\u001b[0;32m    358\u001b[0m \u001b[39mreturn\u001b[39;00m \u001b[39mTrue\u001b[39;00m\n",
      "File \u001b[1;32mc:\\Users\\TOSHIBA\\anaconda3\\envs\\pythonProject\\lib\\site-packages\\instaloader\\instaloadercontext.py:498\u001b[0m, in \u001b[0;36mInstaloaderContext.write_raw\u001b[1;34m(self, resp, filename)\u001b[0m\n\u001b[0;32m    496\u001b[0m \u001b[39mwith\u001b[39;00m \u001b[39mopen\u001b[39m(filename \u001b[39m+\u001b[39m \u001b[39m'\u001b[39m\u001b[39m.temp\u001b[39m\u001b[39m'\u001b[39m, \u001b[39m'\u001b[39m\u001b[39mwb\u001b[39m\u001b[39m'\u001b[39m) \u001b[39mas\u001b[39;00m file:\n\u001b[0;32m    497\u001b[0m     \u001b[39mif\u001b[39;00m \u001b[39misinstance\u001b[39m(resp, requests\u001b[39m.\u001b[39mResponse):\n\u001b[1;32m--> 498\u001b[0m         shutil\u001b[39m.\u001b[39;49mcopyfileobj(resp\u001b[39m.\u001b[39;49mraw, file)\n\u001b[0;32m    499\u001b[0m     \u001b[39melse\u001b[39;00m:\n\u001b[0;32m    500\u001b[0m         file\u001b[39m.\u001b[39mwrite(resp)\n",
      "File \u001b[1;32mc:\\Users\\TOSHIBA\\anaconda3\\envs\\pythonProject\\lib\\shutil.py:205\u001b[0m, in \u001b[0;36mcopyfileobj\u001b[1;34m(fsrc, fdst, length)\u001b[0m\n\u001b[0;32m    203\u001b[0m fdst_write \u001b[39m=\u001b[39m fdst\u001b[39m.\u001b[39mwrite\n\u001b[0;32m    204\u001b[0m \u001b[39mwhile\u001b[39;00m \u001b[39mTrue\u001b[39;00m:\n\u001b[1;32m--> 205\u001b[0m     buf \u001b[39m=\u001b[39m fsrc_read(length)\n\u001b[0;32m    206\u001b[0m     \u001b[39mif\u001b[39;00m \u001b[39mnot\u001b[39;00m buf:\n\u001b[0;32m    207\u001b[0m         \u001b[39mbreak\u001b[39;00m\n",
      "File \u001b[1;32m~\\AppData\\Roaming\\Python\\Python39\\site-packages\\urllib3\\response.py:519\u001b[0m, in \u001b[0;36mHTTPResponse.read\u001b[1;34m(self, amt, decode_content, cache_content)\u001b[0m\n\u001b[0;32m    517\u001b[0m \u001b[39melse\u001b[39;00m:\n\u001b[0;32m    518\u001b[0m     cache_content \u001b[39m=\u001b[39m \u001b[39mFalse\u001b[39;00m\n\u001b[1;32m--> 519\u001b[0m     data \u001b[39m=\u001b[39m \u001b[39mself\u001b[39;49m\u001b[39m.\u001b[39;49m_fp\u001b[39m.\u001b[39;49mread(amt) \u001b[39mif\u001b[39;00m \u001b[39mnot\u001b[39;00m fp_closed \u001b[39melse\u001b[39;00m \u001b[39mb\u001b[39m\u001b[39m\"\u001b[39m\u001b[39m\"\u001b[39m\n\u001b[0;32m    520\u001b[0m     \u001b[39mif\u001b[39;00m (\n\u001b[0;32m    521\u001b[0m         amt \u001b[39m!=\u001b[39m \u001b[39m0\u001b[39m \u001b[39mand\u001b[39;00m \u001b[39mnot\u001b[39;00m data\n\u001b[0;32m    522\u001b[0m     ):  \u001b[39m# Platform-specific: Buggy versions of Python.\u001b[39;00m\n\u001b[1;32m   (...)\u001b[0m\n\u001b[0;32m    528\u001b[0m         \u001b[39m# not properly close the connection in all cases. There is\u001b[39;00m\n\u001b[0;32m    529\u001b[0m         \u001b[39m# no harm in redundantly calling close.\u001b[39;00m\n\u001b[0;32m    530\u001b[0m         \u001b[39mself\u001b[39m\u001b[39m.\u001b[39m_fp\u001b[39m.\u001b[39mclose()\n",
      "File \u001b[1;32mc:\\Users\\TOSHIBA\\anaconda3\\envs\\pythonProject\\lib\\http\\client.py:463\u001b[0m, in \u001b[0;36mHTTPResponse.read\u001b[1;34m(self, amt)\u001b[0m\n\u001b[0;32m    460\u001b[0m \u001b[39mif\u001b[39;00m amt \u001b[39mis\u001b[39;00m \u001b[39mnot\u001b[39;00m \u001b[39mNone\u001b[39;00m:\n\u001b[0;32m    461\u001b[0m     \u001b[39m# Amount is given, implement using readinto\u001b[39;00m\n\u001b[0;32m    462\u001b[0m     b \u001b[39m=\u001b[39m \u001b[39mbytearray\u001b[39m(amt)\n\u001b[1;32m--> 463\u001b[0m     n \u001b[39m=\u001b[39m \u001b[39mself\u001b[39;49m\u001b[39m.\u001b[39;49mreadinto(b)\n\u001b[0;32m    464\u001b[0m     \u001b[39mreturn\u001b[39;00m \u001b[39mmemoryview\u001b[39m(b)[:n]\u001b[39m.\u001b[39mtobytes()\n\u001b[0;32m    465\u001b[0m \u001b[39melse\u001b[39;00m:\n\u001b[0;32m    466\u001b[0m     \u001b[39m# Amount is not given (unbounded read) so we must check self.length\u001b[39;00m\n\u001b[0;32m    467\u001b[0m     \u001b[39m# and self.chunked\u001b[39;00m\n",
      "File \u001b[1;32mc:\\Users\\TOSHIBA\\anaconda3\\envs\\pythonProject\\lib\\http\\client.py:507\u001b[0m, in \u001b[0;36mHTTPResponse.readinto\u001b[1;34m(self, b)\u001b[0m\n\u001b[0;32m    502\u001b[0m         b \u001b[39m=\u001b[39m \u001b[39mmemoryview\u001b[39m(b)[\u001b[39m0\u001b[39m:\u001b[39mself\u001b[39m\u001b[39m.\u001b[39mlength]\n\u001b[0;32m    504\u001b[0m \u001b[39m# we do not use _safe_read() here because this may be a .will_close\u001b[39;00m\n\u001b[0;32m    505\u001b[0m \u001b[39m# connection, and the user is reading more bytes than will be provided\u001b[39;00m\n\u001b[0;32m    506\u001b[0m \u001b[39m# (for example, reading in 1k chunks)\u001b[39;00m\n\u001b[1;32m--> 507\u001b[0m n \u001b[39m=\u001b[39m \u001b[39mself\u001b[39;49m\u001b[39m.\u001b[39;49mfp\u001b[39m.\u001b[39;49mreadinto(b)\n\u001b[0;32m    508\u001b[0m \u001b[39mif\u001b[39;00m \u001b[39mnot\u001b[39;00m n \u001b[39mand\u001b[39;00m b:\n\u001b[0;32m    509\u001b[0m     \u001b[39m# Ideally, we would raise IncompleteRead if the content-length\u001b[39;00m\n\u001b[0;32m    510\u001b[0m     \u001b[39m# wasn't satisfied, but it might break compatibility.\u001b[39;00m\n\u001b[0;32m    511\u001b[0m     \u001b[39mself\u001b[39m\u001b[39m.\u001b[39m_close_conn()\n",
      "File \u001b[1;32mc:\\Users\\TOSHIBA\\anaconda3\\envs\\pythonProject\\lib\\socket.py:704\u001b[0m, in \u001b[0;36mSocketIO.readinto\u001b[1;34m(self, b)\u001b[0m\n\u001b[0;32m    702\u001b[0m \u001b[39mwhile\u001b[39;00m \u001b[39mTrue\u001b[39;00m:\n\u001b[0;32m    703\u001b[0m     \u001b[39mtry\u001b[39;00m:\n\u001b[1;32m--> 704\u001b[0m         \u001b[39mreturn\u001b[39;00m \u001b[39mself\u001b[39;49m\u001b[39m.\u001b[39;49m_sock\u001b[39m.\u001b[39;49mrecv_into(b)\n\u001b[0;32m    705\u001b[0m     \u001b[39mexcept\u001b[39;00m timeout:\n\u001b[0;32m    706\u001b[0m         \u001b[39mself\u001b[39m\u001b[39m.\u001b[39m_timeout_occurred \u001b[39m=\u001b[39m \u001b[39mTrue\u001b[39;00m\n",
      "File \u001b[1;32mc:\\Users\\TOSHIBA\\anaconda3\\envs\\pythonProject\\lib\\ssl.py:1241\u001b[0m, in \u001b[0;36mSSLSocket.recv_into\u001b[1;34m(self, buffer, nbytes, flags)\u001b[0m\n\u001b[0;32m   1237\u001b[0m     \u001b[39mif\u001b[39;00m flags \u001b[39m!=\u001b[39m \u001b[39m0\u001b[39m:\n\u001b[0;32m   1238\u001b[0m         \u001b[39mraise\u001b[39;00m \u001b[39mValueError\u001b[39;00m(\n\u001b[0;32m   1239\u001b[0m           \u001b[39m\"\u001b[39m\u001b[39mnon-zero flags not allowed in calls to recv_into() on \u001b[39m\u001b[39m%s\u001b[39;00m\u001b[39m\"\u001b[39m \u001b[39m%\u001b[39m\n\u001b[0;32m   1240\u001b[0m           \u001b[39mself\u001b[39m\u001b[39m.\u001b[39m\u001b[39m__class__\u001b[39m)\n\u001b[1;32m-> 1241\u001b[0m     \u001b[39mreturn\u001b[39;00m \u001b[39mself\u001b[39;49m\u001b[39m.\u001b[39;49mread(nbytes, buffer)\n\u001b[0;32m   1242\u001b[0m \u001b[39melse\u001b[39;00m:\n\u001b[0;32m   1243\u001b[0m     \u001b[39mreturn\u001b[39;00m \u001b[39msuper\u001b[39m()\u001b[39m.\u001b[39mrecv_into(buffer, nbytes, flags)\n",
      "File \u001b[1;32mc:\\Users\\TOSHIBA\\anaconda3\\envs\\pythonProject\\lib\\ssl.py:1099\u001b[0m, in \u001b[0;36mSSLSocket.read\u001b[1;34m(self, len, buffer)\u001b[0m\n\u001b[0;32m   1097\u001b[0m \u001b[39mtry\u001b[39;00m:\n\u001b[0;32m   1098\u001b[0m     \u001b[39mif\u001b[39;00m buffer \u001b[39mis\u001b[39;00m \u001b[39mnot\u001b[39;00m \u001b[39mNone\u001b[39;00m:\n\u001b[1;32m-> 1099\u001b[0m         \u001b[39mreturn\u001b[39;00m \u001b[39mself\u001b[39;49m\u001b[39m.\u001b[39;49m_sslobj\u001b[39m.\u001b[39;49mread(\u001b[39mlen\u001b[39;49m, buffer)\n\u001b[0;32m   1100\u001b[0m     \u001b[39melse\u001b[39;00m:\n\u001b[0;32m   1101\u001b[0m         \u001b[39mreturn\u001b[39;00m \u001b[39mself\u001b[39m\u001b[39m.\u001b[39m_sslobj\u001b[39m.\u001b[39mread(\u001b[39mlen\u001b[39m)\n",
      "\u001b[1;31mKeyboardInterrupt\u001b[0m: "
     ]
    }
   ],
   "source": [
    "# Load a new profile\n",
    "profile = instaloader.Profile.from_username(bot.context, 'wwe')\n",
    "\n",
    "# Get all posts in a generator object\n",
    "posts = profile.get_posts()\n",
    "\n",
    "# Iterate and download\n",
    "for index, post in enumerate(posts, 1):\n",
    "    bot.download_post(post, target=f\"{profile.username}_{index}\")"
   ]
  },
  {
   "attachments": {},
   "cell_type": "markdown",
   "metadata": {},
   "source": [
    "Web Scraping Using Python To Create A Dataset"
   ]
  },
  {
   "cell_type": "code",
   "execution_count": 50,
   "metadata": {},
   "outputs": [],
   "source": [
    "import pandas as pd\n",
    "import numpy as np\n",
    "from urllib.request import urlopen\n",
    "from bs4 import BeautifulSoup"
   ]
  },
  {
   "cell_type": "code",
   "execution_count": 55,
   "metadata": {},
   "outputs": [],
   "source": [
    "url = \"https://www.hubertiming.com/results/2017GPTR10K\"\n",
    "html = urlopen(url)"
   ]
  },
  {
   "cell_type": "code",
   "execution_count": 56,
   "metadata": {},
   "outputs": [
    {
     "data": {
      "text/plain": [
       "bs4.BeautifulSoup"
      ]
     },
     "execution_count": 56,
     "metadata": {},
     "output_type": "execute_result"
    }
   ],
   "source": [
    "soup = BeautifulSoup(html, 'lxml')\n",
    "type(soup)\n",
    "soup = BeautifulSoup(html, 'lxml')\n",
    "type(soup)"
   ]
  },
  {
   "cell_type": "code",
   "execution_count": 57,
   "metadata": {},
   "outputs": [
    {
     "name": "stdout",
     "output_type": "stream",
     "text": [
      "None\n"
     ]
    }
   ],
   "source": [
    "# Get the title\n",
    "title = soup.title\n",
    "print(title)"
   ]
  },
  {
   "cell_type": "code",
   "execution_count": 58,
   "metadata": {},
   "outputs": [
    {
     "data": {
      "text/plain": [
       "[]"
      ]
     },
     "execution_count": 58,
     "metadata": {},
     "output_type": "execute_result"
    }
   ],
   "source": [
    "# scrape the useful tags from the web page you can simply use the find_all() function of Beautiful Soap\n",
    "soup.find_all('a')"
   ]
  },
  {
   "cell_type": "code",
   "execution_count": 59,
   "metadata": {},
   "outputs": [
    {
     "name": "stdout",
     "output_type": "stream",
     "text": [
      "[]\n"
     ]
    }
   ],
   "source": [
    "# scrap and prepare the data from the web page in such a way that we can convert it into a data set\n",
    "# Print the first 10 rows for sanity check\n",
    "rows = soup.find_all('tr')\n",
    "print(rows[:10])"
   ]
  },
  {
   "cell_type": "code",
   "execution_count": 60,
   "metadata": {},
   "outputs": [
    {
     "ename": "NameError",
     "evalue": "name 'row_td' is not defined",
     "output_type": "error",
     "traceback": [
      "\u001b[1;31m---------------------------------------------------------------------------\u001b[0m",
      "\u001b[1;31mNameError\u001b[0m                                 Traceback (most recent call last)",
      "\u001b[1;32mc:\\Users\\TOSHIBA\\Desktop\\Projelerim\\Web-Scrape\\scraping.ipynb Cell 54\u001b[0m in \u001b[0;36m<cell line: 4>\u001b[1;34m()\u001b[0m\n\u001b[0;32m      <a href='vscode-notebook-cell:/c%3A/Users/TOSHIBA/Desktop/Projelerim/Web-Scrape/scraping.ipynb#Y104sZmlsZQ%3D%3D?line=1'>2</a>\u001b[0m \u001b[39mfor\u001b[39;00m row \u001b[39min\u001b[39;00m rows:\n\u001b[0;32m      <a href='vscode-notebook-cell:/c%3A/Users/TOSHIBA/Desktop/Projelerim/Web-Scrape/scraping.ipynb#Y104sZmlsZQ%3D%3D?line=2'>3</a>\u001b[0m     row_td \u001b[39m=\u001b[39m row\u001b[39m.\u001b[39mfind_all(\u001b[39m'\u001b[39m\u001b[39mtd\u001b[39m\u001b[39m'\u001b[39m)\n\u001b[1;32m----> <a href='vscode-notebook-cell:/c%3A/Users/TOSHIBA/Desktop/Projelerim/Web-Scrape/scraping.ipynb#Y104sZmlsZQ%3D%3D?line=3'>4</a>\u001b[0m \u001b[39mprint\u001b[39m(row_td)\n\u001b[0;32m      <a href='vscode-notebook-cell:/c%3A/Users/TOSHIBA/Desktop/Projelerim/Web-Scrape/scraping.ipynb#Y104sZmlsZQ%3D%3D?line=4'>5</a>\u001b[0m \u001b[39mtype\u001b[39m(row_td)\n",
      "\u001b[1;31mNameError\u001b[0m: name 'row_td' is not defined"
     ]
    }
   ],
   "source": [
    "# extract the data that we can put into a data frame\n",
    "for row in rows:\n",
    "    row_td = row.find_all('td')\n",
    "print(row_td)\n",
    "type(row_td)"
   ]
  },
  {
   "cell_type": "code",
   "execution_count": 61,
   "metadata": {},
   "outputs": [
    {
     "ename": "NameError",
     "evalue": "name 'row_td' is not defined",
     "output_type": "error",
     "traceback": [
      "\u001b[1;31m---------------------------------------------------------------------------\u001b[0m",
      "\u001b[1;31mNameError\u001b[0m                                 Traceback (most recent call last)",
      "\u001b[1;32mc:\\Users\\TOSHIBA\\Desktop\\Projelerim\\Web-Scrape\\scraping.ipynb Cell 55\u001b[0m in \u001b[0;36m<cell line: 2>\u001b[1;34m()\u001b[0m\n\u001b[0;32m      <a href='vscode-notebook-cell:/c%3A/Users/TOSHIBA/Desktop/Projelerim/Web-Scrape/scraping.ipynb#Y105sZmlsZQ%3D%3D?line=0'>1</a>\u001b[0m \u001b[39m# remove the html tags\u001b[39;00m\n\u001b[1;32m----> <a href='vscode-notebook-cell:/c%3A/Users/TOSHIBA/Desktop/Projelerim/Web-Scrape/scraping.ipynb#Y105sZmlsZQ%3D%3D?line=1'>2</a>\u001b[0m str_cells \u001b[39m=\u001b[39m \u001b[39mstr\u001b[39m(row_td)\n\u001b[0;32m      <a href='vscode-notebook-cell:/c%3A/Users/TOSHIBA/Desktop/Projelerim/Web-Scrape/scraping.ipynb#Y105sZmlsZQ%3D%3D?line=2'>3</a>\u001b[0m cleantext \u001b[39m=\u001b[39m BeautifulSoup(str_cells, \u001b[39m\"\u001b[39m\u001b[39mlxml\u001b[39m\u001b[39m\"\u001b[39m)\u001b[39m.\u001b[39mget_text()\n\u001b[0;32m      <a href='vscode-notebook-cell:/c%3A/Users/TOSHIBA/Desktop/Projelerim/Web-Scrape/scraping.ipynb#Y105sZmlsZQ%3D%3D?line=3'>4</a>\u001b[0m \u001b[39mprint\u001b[39m(cleantext)\n",
      "\u001b[1;31mNameError\u001b[0m: name 'row_td' is not defined"
     ]
    }
   ],
   "source": [
    "# remove the html tags\n",
    "str_cells = str(row_td)\n",
    "cleantext = BeautifulSoup(str_cells, \"lxml\").get_text()\n",
    "print(cleantext)"
   ]
  },
  {
   "cell_type": "code",
   "execution_count": 62,
   "metadata": {},
   "outputs": [
    {
     "ename": "NameError",
     "evalue": "name 'clean2' is not defined",
     "output_type": "error",
     "traceback": [
      "\u001b[1;31m---------------------------------------------------------------------------\u001b[0m",
      "\u001b[1;31mNameError\u001b[0m                                 Traceback (most recent call last)",
      "\u001b[1;32mc:\\Users\\TOSHIBA\\Desktop\\Projelerim\\Web-Scrape\\scraping.ipynb Cell 56\u001b[0m in \u001b[0;36m<cell line: 10>\u001b[1;34m()\u001b[0m\n\u001b[0;32m      <a href='vscode-notebook-cell:/c%3A/Users/TOSHIBA/Desktop/Projelerim/Web-Scrape/scraping.ipynb#Y106sZmlsZQ%3D%3D?line=7'>8</a>\u001b[0m     clean2 \u001b[39m=\u001b[39m (re\u001b[39m.\u001b[39msub(clean, \u001b[39m'\u001b[39m\u001b[39m'\u001b[39m,str_cells))\n\u001b[0;32m      <a href='vscode-notebook-cell:/c%3A/Users/TOSHIBA/Desktop/Projelerim/Web-Scrape/scraping.ipynb#Y106sZmlsZQ%3D%3D?line=8'>9</a>\u001b[0m     list_rows\u001b[39m.\u001b[39mappend(clean2)\n\u001b[1;32m---> <a href='vscode-notebook-cell:/c%3A/Users/TOSHIBA/Desktop/Projelerim/Web-Scrape/scraping.ipynb#Y106sZmlsZQ%3D%3D?line=9'>10</a>\u001b[0m \u001b[39mprint\u001b[39m(clean2)\n\u001b[0;32m     <a href='vscode-notebook-cell:/c%3A/Users/TOSHIBA/Desktop/Projelerim/Web-Scrape/scraping.ipynb#Y106sZmlsZQ%3D%3D?line=10'>11</a>\u001b[0m \u001b[39mtype\u001b[39m(clean2)\n",
      "\u001b[1;31mNameError\u001b[0m: name 'clean2' is not defined"
     ]
    }
   ],
   "source": [
    "# replace some <td> tags with string. We can do this by using a re module\n",
    "import re\n",
    "list_rows = []\n",
    "for row in rows:\n",
    "    cells = row.find_all('td')\n",
    "    str_cells = str(cells)\n",
    "    clean = re.compile('&lt;.*?&gt;')\n",
    "    clean2 = (re.sub(clean, '',str_cells))\n",
    "    list_rows.append(clean2)\n",
    "print(clean2)\n",
    "type(clean2)"
   ]
  },
  {
   "cell_type": "code",
   "execution_count": 63,
   "metadata": {},
   "outputs": [
    {
     "data": {
      "text/html": [
       "<div>\n",
       "<style scoped>\n",
       "    .dataframe tbody tr th:only-of-type {\n",
       "        vertical-align: middle;\n",
       "    }\n",
       "\n",
       "    .dataframe tbody tr th {\n",
       "        vertical-align: top;\n",
       "    }\n",
       "\n",
       "    .dataframe thead th {\n",
       "        text-align: right;\n",
       "    }\n",
       "</style>\n",
       "<table border=\"1\" class=\"dataframe\">\n",
       "  <thead>\n",
       "    <tr style=\"text-align: right;\">\n",
       "      <th></th>\n",
       "    </tr>\n",
       "  </thead>\n",
       "  <tbody>\n",
       "  </tbody>\n",
       "</table>\n",
       "</div>"
      ],
      "text/plain": [
       "Empty DataFrame\n",
       "Columns: []\n",
       "Index: []"
      ]
     },
     "execution_count": 63,
     "metadata": {},
     "output_type": "execute_result"
    }
   ],
   "source": [
    "# convert the list into a pandas DataFrame\n",
    "df = pd.DataFrame(list_rows)\n",
    "df.head(10)"
   ]
  },
  {
   "cell_type": "code",
   "execution_count": 64,
   "metadata": {},
   "outputs": [
    {
     "ename": "KeyError",
     "evalue": "0",
     "output_type": "error",
     "traceback": [
      "\u001b[1;31m---------------------------------------------------------------------------\u001b[0m",
      "\u001b[1;31mKeyError\u001b[0m                                  Traceback (most recent call last)",
      "File \u001b[1;32m~\\AppData\\Roaming\\Python\\Python39\\site-packages\\pandas\\core\\indexes\\base.py:3629\u001b[0m, in \u001b[0;36mIndex.get_loc\u001b[1;34m(self, key, method, tolerance)\u001b[0m\n\u001b[0;32m   3628\u001b[0m \u001b[39mtry\u001b[39;00m:\n\u001b[1;32m-> 3629\u001b[0m     \u001b[39mreturn\u001b[39;00m \u001b[39mself\u001b[39;49m\u001b[39m.\u001b[39;49m_engine\u001b[39m.\u001b[39;49mget_loc(casted_key)\n\u001b[0;32m   3630\u001b[0m \u001b[39mexcept\u001b[39;00m \u001b[39mKeyError\u001b[39;00m \u001b[39mas\u001b[39;00m err:\n",
      "File \u001b[1;32m~\\AppData\\Roaming\\Python\\Python39\\site-packages\\pandas\\_libs\\index.pyx:136\u001b[0m, in \u001b[0;36mpandas._libs.index.IndexEngine.get_loc\u001b[1;34m()\u001b[0m\n",
      "File \u001b[1;32m~\\AppData\\Roaming\\Python\\Python39\\site-packages\\pandas\\_libs\\index.pyx:163\u001b[0m, in \u001b[0;36mpandas._libs.index.IndexEngine.get_loc\u001b[1;34m()\u001b[0m\n",
      "File \u001b[1;32mpandas\\_libs\\hashtable_class_helper.pxi:5198\u001b[0m, in \u001b[0;36mpandas._libs.hashtable.PyObjectHashTable.get_item\u001b[1;34m()\u001b[0m\n",
      "File \u001b[1;32mpandas\\_libs\\hashtable_class_helper.pxi:5206\u001b[0m, in \u001b[0;36mpandas._libs.hashtable.PyObjectHashTable.get_item\u001b[1;34m()\u001b[0m\n",
      "\u001b[1;31mKeyError\u001b[0m: 0",
      "\nThe above exception was the direct cause of the following exception:\n",
      "\u001b[1;31mKeyError\u001b[0m                                  Traceback (most recent call last)",
      "\u001b[1;32mc:\\Users\\TOSHIBA\\Desktop\\Projelerim\\Web-Scrape\\scraping.ipynb Cell 58\u001b[0m in \u001b[0;36m<cell line: 2>\u001b[1;34m()\u001b[0m\n\u001b[0;32m      <a href='vscode-notebook-cell:/c%3A/Users/TOSHIBA/Desktop/Projelerim/Web-Scrape/scraping.ipynb#Y111sZmlsZQ%3D%3D?line=0'>1</a>\u001b[0m \u001b[39m# Data Cleaning\u001b[39;00m\n\u001b[1;32m----> <a href='vscode-notebook-cell:/c%3A/Users/TOSHIBA/Desktop/Projelerim/Web-Scrape/scraping.ipynb#Y111sZmlsZQ%3D%3D?line=1'>2</a>\u001b[0m df1 \u001b[39m=\u001b[39m df[\u001b[39m0\u001b[39;49m]\u001b[39m.\u001b[39mstr\u001b[39m.\u001b[39msplit(\u001b[39m'\u001b[39m\u001b[39m,\u001b[39m\u001b[39m'\u001b[39m, expand\u001b[39m=\u001b[39m\u001b[39mTrue\u001b[39;00m)\n\u001b[0;32m      <a href='vscode-notebook-cell:/c%3A/Users/TOSHIBA/Desktop/Projelerim/Web-Scrape/scraping.ipynb#Y111sZmlsZQ%3D%3D?line=2'>3</a>\u001b[0m df1\u001b[39m.\u001b[39mhead(\u001b[39m10\u001b[39m)\n",
      "File \u001b[1;32m~\\AppData\\Roaming\\Python\\Python39\\site-packages\\pandas\\core\\frame.py:3505\u001b[0m, in \u001b[0;36mDataFrame.__getitem__\u001b[1;34m(self, key)\u001b[0m\n\u001b[0;32m   3503\u001b[0m \u001b[39mif\u001b[39;00m \u001b[39mself\u001b[39m\u001b[39m.\u001b[39mcolumns\u001b[39m.\u001b[39mnlevels \u001b[39m>\u001b[39m \u001b[39m1\u001b[39m:\n\u001b[0;32m   3504\u001b[0m     \u001b[39mreturn\u001b[39;00m \u001b[39mself\u001b[39m\u001b[39m.\u001b[39m_getitem_multilevel(key)\n\u001b[1;32m-> 3505\u001b[0m indexer \u001b[39m=\u001b[39m \u001b[39mself\u001b[39;49m\u001b[39m.\u001b[39;49mcolumns\u001b[39m.\u001b[39;49mget_loc(key)\n\u001b[0;32m   3506\u001b[0m \u001b[39mif\u001b[39;00m is_integer(indexer):\n\u001b[0;32m   3507\u001b[0m     indexer \u001b[39m=\u001b[39m [indexer]\n",
      "File \u001b[1;32m~\\AppData\\Roaming\\Python\\Python39\\site-packages\\pandas\\core\\indexes\\base.py:3631\u001b[0m, in \u001b[0;36mIndex.get_loc\u001b[1;34m(self, key, method, tolerance)\u001b[0m\n\u001b[0;32m   3629\u001b[0m     \u001b[39mreturn\u001b[39;00m \u001b[39mself\u001b[39m\u001b[39m.\u001b[39m_engine\u001b[39m.\u001b[39mget_loc(casted_key)\n\u001b[0;32m   3630\u001b[0m \u001b[39mexcept\u001b[39;00m \u001b[39mKeyError\u001b[39;00m \u001b[39mas\u001b[39;00m err:\n\u001b[1;32m-> 3631\u001b[0m     \u001b[39mraise\u001b[39;00m \u001b[39mKeyError\u001b[39;00m(key) \u001b[39mfrom\u001b[39;00m \u001b[39merr\u001b[39;00m\n\u001b[0;32m   3632\u001b[0m \u001b[39mexcept\u001b[39;00m \u001b[39mTypeError\u001b[39;00m:\n\u001b[0;32m   3633\u001b[0m     \u001b[39m# If we have a listlike key, _check_indexing_error will raise\u001b[39;00m\n\u001b[0;32m   3634\u001b[0m     \u001b[39m#  InvalidIndexError. Otherwise we fall through and re-raise\u001b[39;00m\n\u001b[0;32m   3635\u001b[0m     \u001b[39m#  the TypeError.\u001b[39;00m\n\u001b[0;32m   3636\u001b[0m     \u001b[39mself\u001b[39m\u001b[39m.\u001b[39m_check_indexing_error(key)\n",
      "\u001b[1;31mKeyError\u001b[0m: 0"
     ]
    }
   ],
   "source": [
    "# Data Cleaning\n",
    "df1 = df[0].str.split(',', expand=True)\n",
    "df1.head(10)"
   ]
  },
  {
   "cell_type": "code",
   "execution_count": 65,
   "metadata": {},
   "outputs": [
    {
     "ename": "NameError",
     "evalue": "name 'df1' is not defined",
     "output_type": "error",
     "traceback": [
      "\u001b[1;31m---------------------------------------------------------------------------\u001b[0m",
      "\u001b[1;31mNameError\u001b[0m                                 Traceback (most recent call last)",
      "\u001b[1;32mc:\\Users\\TOSHIBA\\Desktop\\Projelerim\\Web-Scrape\\scraping.ipynb Cell 59\u001b[0m in \u001b[0;36m<cell line: 2>\u001b[1;34m()\u001b[0m\n\u001b[0;32m      <a href='vscode-notebook-cell:/c%3A/Users/TOSHIBA/Desktop/Projelerim/Web-Scrape/scraping.ipynb#Y112sZmlsZQ%3D%3D?line=0'>1</a>\u001b[0m \u001b[39m# remove those brackets\u001b[39;00m\n\u001b[1;32m----> <a href='vscode-notebook-cell:/c%3A/Users/TOSHIBA/Desktop/Projelerim/Web-Scrape/scraping.ipynb#Y112sZmlsZQ%3D%3D?line=1'>2</a>\u001b[0m df1[\u001b[39m0\u001b[39m] \u001b[39m=\u001b[39m df1[\u001b[39m0\u001b[39m]\u001b[39m.\u001b[39mstr\u001b[39m.\u001b[39mstrip(\u001b[39m'\u001b[39m\u001b[39m[\u001b[39m\u001b[39m'\u001b[39m)\n",
      "\u001b[1;31mNameError\u001b[0m: name 'df1' is not defined"
     ]
    }
   ],
   "source": [
    "# remove those brackets\n",
    "df1[0] = df1[0].str.strip('[')"
   ]
  },
  {
   "cell_type": "code",
   "execution_count": 66,
   "metadata": {},
   "outputs": [
    {
     "ename": "NameError",
     "evalue": "name 'df1' is not defined",
     "output_type": "error",
     "traceback": [
      "\u001b[1;31m---------------------------------------------------------------------------\u001b[0m",
      "\u001b[1;31mNameError\u001b[0m                                 Traceback (most recent call last)",
      "\u001b[1;32mc:\\Users\\TOSHIBA\\Desktop\\Projelerim\\Web-Scrape\\scraping.ipynb Cell 60\u001b[0m in \u001b[0;36m<cell line: 9>\u001b[1;34m()\u001b[0m\n\u001b[0;32m      <a href='vscode-notebook-cell:/c%3A/Users/TOSHIBA/Desktop/Projelerim/Web-Scrape/scraping.ipynb#Y113sZmlsZQ%3D%3D?line=6'>7</a>\u001b[0m df2 \u001b[39m=\u001b[39m pd\u001b[39m.\u001b[39mDataFrame(all_header)\n\u001b[0;32m      <a href='vscode-notebook-cell:/c%3A/Users/TOSHIBA/Desktop/Projelerim/Web-Scrape/scraping.ipynb#Y113sZmlsZQ%3D%3D?line=7'>8</a>\u001b[0m df3 \u001b[39m=\u001b[39m df2[\u001b[39m0\u001b[39m]\u001b[39m.\u001b[39mstr\u001b[39m.\u001b[39msplit(\u001b[39m'\u001b[39m\u001b[39m,\u001b[39m\u001b[39m'\u001b[39m, expand\u001b[39m=\u001b[39m\u001b[39mTrue\u001b[39;00m)\n\u001b[1;32m----> <a href='vscode-notebook-cell:/c%3A/Users/TOSHIBA/Desktop/Projelerim/Web-Scrape/scraping.ipynb#Y113sZmlsZQ%3D%3D?line=8'>9</a>\u001b[0m frames \u001b[39m=\u001b[39m [df3, df1]\n\u001b[0;32m     <a href='vscode-notebook-cell:/c%3A/Users/TOSHIBA/Desktop/Projelerim/Web-Scrape/scraping.ipynb#Y113sZmlsZQ%3D%3D?line=9'>10</a>\u001b[0m df4 \u001b[39m=\u001b[39m pd\u001b[39m.\u001b[39mconcat(frames)\n\u001b[0;32m     <a href='vscode-notebook-cell:/c%3A/Users/TOSHIBA/Desktop/Projelerim/Web-Scrape/scraping.ipynb#Y113sZmlsZQ%3D%3D?line=10'>11</a>\u001b[0m df5 \u001b[39m=\u001b[39m df4\u001b[39m.\u001b[39mrename(columns\u001b[39m=\u001b[39mdf4\u001b[39m.\u001b[39miloc[\u001b[39m0\u001b[39m])\n",
      "\u001b[1;31mNameError\u001b[0m: name 'df1' is not defined"
     ]
    }
   ],
   "source": [
    "# extract the respective headers\n",
    "col_labels = soup.find_all('th')\n",
    "all_header = []\n",
    "col_str = str(col_labels)\n",
    "cleantext2 = BeautifulSoup(col_str, \"lxml\").get_text()\n",
    "all_header.append(cleantext2)\n",
    "df2 = pd.DataFrame(all_header)\n",
    "df3 = df2[0].str.split(',', expand=True)\n",
    "frames = [df3, df1]\n",
    "df4 = pd.concat(frames)\n",
    "df5 = df4.rename(columns=df4.iloc[0])\n",
    "df5.head()"
   ]
  },
  {
   "attachments": {},
   "cell_type": "markdown",
   "metadata": {},
   "source": [
    "Scraping GitHub Profile"
   ]
  },
  {
   "cell_type": "code",
   "execution_count": 67,
   "metadata": {},
   "outputs": [
    {
     "name": "stdout",
     "output_type": "stream",
     "text": [
      "https://avatars.githubusercontent.com/u/85449967?v=4\n"
     ]
    }
   ],
   "source": [
    "import requests\n",
    "from bs4 import BeautifulSoup as bs\n",
    "\n",
    "github_profile = \"https://github.com/MevlutYildiz77\"\n",
    "req = requests.get(github_profile)\n",
    "scraper = bs(req.content, \"html.parser\")\n",
    "profile_picture = scraper.find(\"img\", {\"alt\": \"Avatar\"})[\"src\"]\n",
    "print(profile_picture)"
   ]
  }
 ],
 "metadata": {
  "kernelspec": {
   "display_name": "pythonProject",
   "language": "python",
   "name": "python3"
  },
  "language_info": {
   "codemirror_mode": {
    "name": "ipython",
    "version": 3
   },
   "file_extension": ".py",
   "mimetype": "text/x-python",
   "name": "python",
   "nbconvert_exporter": "python",
   "pygments_lexer": "ipython3",
   "version": "3.9.12"
  },
  "orig_nbformat": 4
 },
 "nbformat": 4,
 "nbformat_minor": 2
}
